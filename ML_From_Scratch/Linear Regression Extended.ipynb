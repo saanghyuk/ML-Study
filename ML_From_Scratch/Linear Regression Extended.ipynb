{
 "cells": [
  {
   "cell_type": "code",
   "execution_count": 1,
   "metadata": {
    "collapsed": true
   },
   "outputs": [],
   "source": [
    "from sklearn.datasets.samples_generator import make_regression"
   ]
  },
  {
   "cell_type": "code",
   "execution_count": 4,
   "metadata": {
    "collapsed": true
   },
   "outputs": [],
   "source": [
    "X, y = make_regression(n_samples = 1000, \n",
    "                      n_features = 1,\n",
    "                      noise = 10,\n",
    "                      random_state = 42)\n",
    "#noise 클수록 더 커짐 "
   ]
  },
  {
   "cell_type": "code",
   "execution_count": 5,
   "metadata": {},
   "outputs": [
    {
     "data": {
      "text/plain": [
       "array([[-1.75873949],\n",
       "       [ 1.03184454],\n",
       "       [-0.48760622],\n",
       "       [ 0.18645431],\n",
       "       [ 0.72576662],\n",
       "       [ 0.97255445],\n",
       "       [ 0.64537595],\n",
       "       [ 0.68189149],\n",
       "       [-1.43014138],\n",
       "       [ 1.06667469]])"
      ]
     },
     "execution_count": 5,
     "metadata": {},
     "output_type": "execute_result"
    }
   ],
   "source": [
    "X[:10]"
   ]
  },
  {
   "cell_type": "code",
   "execution_count": null,
   "metadata": {
    "collapsed": true
   },
   "outputs": [],
   "source": []
  },
  {
   "cell_type": "code",
   "execution_count": 7,
   "metadata": {},
   "outputs": [
    {
     "ename": "NameError",
     "evalue": "name 'linear_model' is not defined",
     "output_type": "error",
     "traceback": [
      "\u001b[0;31m---------------------------------------------------------------------------\u001b[0m",
      "\u001b[0;31mNameError\u001b[0m                                 Traceback (most recent call last)",
      "\u001b[0;32m<ipython-input-7-0946c384a2f4>\u001b[0m in \u001b[0;36m<module>\u001b[0;34m()\u001b[0m\n\u001b[0;32m----> 1\u001b[0;31m \u001b[0mgd_lr\u001b[0m \u001b[0;34m=\u001b[0m \u001b[0mlinear_model\u001b[0m\u001b[0;34m.\u001b[0m\u001b[0mLinearRegresionGD\u001b[0m\u001b[0;34m(\u001b[0m\u001b[0meta0\u001b[0m\u001b[0;34m=\u001b[0m\u001b[0;36m0.001\u001b[0m\u001b[0;34m,\u001b[0m \u001b[0mepochs\u001b[0m \u001b[0;34m=\u001b[0m \u001b[0;36m10000\u001b[0m\u001b[0;34m,\u001b[0m \u001b[0mbatch_size\u001b[0m \u001b[0;34m=\u001b[0m \u001b[0;36m1\u001b[0m\u001b[0;34m,\u001b[0m \u001b[0mshuffle\u001b[0m\u001b[0;34m=\u001b[0m\u001b[0;32mFalse\u001b[0m\u001b[0;34m)\u001b[0m\u001b[0;34m\u001b[0m\u001b[0m\n\u001b[0m\u001b[1;32m      2\u001b[0m \u001b[0;31m#pure GD\u001b[0m\u001b[0;34m\u001b[0m\u001b[0;34m\u001b[0m\u001b[0m\n",
      "\u001b[0;31mNameError\u001b[0m: name 'linear_model' is not defined"
     ]
    }
   ],
   "source": [
    "gd_lr = linear_model.LinearRegresionGD(eta0=0.001, epochs = 10000, batch_size = 1, shuffle=False)\n",
    "#pure GD"
   ]
  },
  {
   "cell_type": "code",
   "execution_count": 8,
   "metadata": {},
   "outputs": [
    {
     "ename": "NameError",
     "evalue": "name 'linear_model' is not defined",
     "output_type": "error",
     "traceback": [
      "\u001b[0;31m---------------------------------------------------------------------------\u001b[0m",
      "\u001b[0;31mNameError\u001b[0m                                 Traceback (most recent call last)",
      "\u001b[0;32m<ipython-input-8-ad54a4d912c7>\u001b[0m in \u001b[0;36m<module>\u001b[0;34m()\u001b[0m\n\u001b[0;32m----> 1\u001b[0;31m \u001b[0mbgd_lr\u001b[0m\u001b[0;34m=\u001b[0m \u001b[0mlinear_model\u001b[0m\u001b[0;34m.\u001b[0m\u001b[0mLinearRegressionGD\u001b[0m\u001b[0;34m(\u001b[0m\u001b[0meta0\u001b[0m\u001b[0;34m=\u001b[0m\u001b[0;36m0.001\u001b[0m\u001b[0;34m,\u001b[0m \u001b[0mepochs\u001b[0m \u001b[0;34m=\u001b[0m \u001b[0;36m10000\u001b[0m\u001b[0;34m,\u001b[0m \u001b[0mbatch_size\u001b[0m \u001b[0;34m=\u001b[0m \u001b[0mlen\u001b[0m\u001b[0;34m(\u001b[0m\u001b[0mX\u001b[0m\u001b[0;34m)\u001b[0m\u001b[0;34m,\u001b[0m \u001b[0mshuffle\u001b[0m \u001b[0;34m=\u001b[0m \u001b[0;32mFalse\u001b[0m\u001b[0;34m)\u001b[0m\u001b[0;34m\u001b[0m\u001b[0m\n\u001b[0m\u001b[1;32m      2\u001b[0m \u001b[0;31m#full batch\u001b[0m\u001b[0;34m\u001b[0m\u001b[0;34m\u001b[0m\u001b[0m\n",
      "\u001b[0;31mNameError\u001b[0m: name 'linear_model' is not defined"
     ]
    }
   ],
   "source": [
    "bgd_lr= linear_model.LinearRegressionGD(eta0=0.001, epochs = 10000, batch_size = len(X), shuffle = False)\n",
    "#full batch\n"
   ]
  },
  {
   "cell_type": "code",
   "execution_count": 9,
   "metadata": {},
   "outputs": [
    {
     "ename": "NameError",
     "evalue": "name 'linear_model' is not defined",
     "output_type": "error",
     "traceback": [
      "\u001b[0;31m---------------------------------------------------------------------------\u001b[0m",
      "\u001b[0;31mNameError\u001b[0m                                 Traceback (most recent call last)",
      "\u001b[0;32m<ipython-input-9-4fcc5487eac2>\u001b[0m in \u001b[0;36m<module>\u001b[0;34m()\u001b[0m\n\u001b[0;32m----> 1\u001b[0;31m \u001b[0msgd_lr\u001b[0m\u001b[0;34m=\u001b[0m \u001b[0mlinear_model\u001b[0m\u001b[0;34m.\u001b[0m\u001b[0mLinearRegressionGD\u001b[0m\u001b[0;34m(\u001b[0m\u001b[0meta0\u001b[0m\u001b[0;34m=\u001b[0m\u001b[0;36m0.001\u001b[0m\u001b[0;34m,\u001b[0m \u001b[0mepochs\u001b[0m \u001b[0;34m=\u001b[0m \u001b[0;36m10000\u001b[0m\u001b[0;34m,\u001b[0m \u001b[0mbatch_size\u001b[0m \u001b[0;34m=\u001b[0m \u001b[0mlen\u001b[0m\u001b[0;34m(\u001b[0m\u001b[0mX\u001b[0m\u001b[0;34m)\u001b[0m\u001b[0;34m,\u001b[0m \u001b[0mshuffle\u001b[0m \u001b[0;34m=\u001b[0m \u001b[0;32mTrue\u001b[0m\u001b[0;34m)\u001b[0m\u001b[0;34m\u001b[0m\u001b[0m\n\u001b[0m",
      "\u001b[0;31mNameError\u001b[0m: name 'linear_model' is not defined"
     ]
    }
   ],
   "source": [
    "sgd_lr= linear_model.LinearRegressionGD(eta0=0.001, epochs = 10000, batch_size = len(X), shuffle = True)\n",
    "#stochastic \n"
   ]
  },
  {
   "cell_type": "code",
   "execution_count": null,
   "metadata": {
    "collapsed": true
   },
   "outputs": [],
   "source": [
    "msgd_lr= linear_model.LinearRegressionGD(eta0=0.001, epochs = 10000, batch_size = 100, shuffle = True)\n",
    "\n"
   ]
  },
  {
   "cell_type": "markdown",
   "metadata": {},
   "source": [
    "# Linear Regression with Normal Equation"
   ]
  },
  {
   "cell_type": "code",
   "execution_count": 8,
   "metadata": {
    "collapsed": true
   },
   "outputs": [],
   "source": [
    "%matplotlib inline\n",
    "\n",
    "import numpy as np\n",
    "import pandas as pd\n",
    "import matplotlib.pyplot as plt"
   ]
  },
  {
   "cell_type": "code",
   "execution_count": 9,
   "metadata": {
    "collapsed": true
   },
   "outputs": [],
   "source": [
    "from sklearn.datasets import load_boston\n",
    "boston=load_boston()"
   ]
  },
  {
   "cell_type": "code",
   "execution_count": 10,
   "metadata": {},
   "outputs": [
    {
     "data": {
      "text/plain": [
       "dict_keys(['data', 'target', 'feature_names', 'DESCR'])"
      ]
     },
     "execution_count": 10,
     "metadata": {},
     "output_type": "execute_result"
    }
   ],
   "source": [
    "boston.keys()\n",
    "# key value로 들어옴"
   ]
  },
  {
   "cell_type": "code",
   "execution_count": 11,
   "metadata": {},
   "outputs": [
    {
     "data": {
      "text/plain": [
       "array(['CRIM', 'ZN', 'INDUS', 'CHAS', 'NOX', 'RM', 'AGE', 'DIS', 'RAD',\n",
       "       'TAX', 'PTRATIO', 'B', 'LSTAT'], dtype='<U7')"
      ]
     },
     "execution_count": 11,
     "metadata": {},
     "output_type": "execute_result"
    }
   ],
   "source": [
    "boston.feature_names"
   ]
  },
  {
   "cell_type": "code",
   "execution_count": 12,
   "metadata": {},
   "outputs": [
    {
     "data": {
      "text/html": [
       "<div>\n",
       "<style>\n",
       "    .dataframe thead tr:only-child th {\n",
       "        text-align: right;\n",
       "    }\n",
       "\n",
       "    .dataframe thead th {\n",
       "        text-align: left;\n",
       "    }\n",
       "\n",
       "    .dataframe tbody tr th {\n",
       "        vertical-align: top;\n",
       "    }\n",
       "</style>\n",
       "<table border=\"1\" class=\"dataframe\">\n",
       "  <thead>\n",
       "    <tr style=\"text-align: right;\">\n",
       "      <th></th>\n",
       "      <th>CRIM</th>\n",
       "      <th>ZN</th>\n",
       "      <th>INDUS</th>\n",
       "      <th>CHAS</th>\n",
       "      <th>NOX</th>\n",
       "      <th>RM</th>\n",
       "      <th>AGE</th>\n",
       "      <th>DIS</th>\n",
       "      <th>RAD</th>\n",
       "      <th>TAX</th>\n",
       "      <th>PTRATIO</th>\n",
       "      <th>B</th>\n",
       "      <th>LSTAT</th>\n",
       "    </tr>\n",
       "  </thead>\n",
       "  <tbody>\n",
       "    <tr>\n",
       "      <th>0</th>\n",
       "      <td>0.00632</td>\n",
       "      <td>18.0</td>\n",
       "      <td>2.31</td>\n",
       "      <td>0.0</td>\n",
       "      <td>0.538</td>\n",
       "      <td>6.575</td>\n",
       "      <td>65.2</td>\n",
       "      <td>4.0900</td>\n",
       "      <td>1.0</td>\n",
       "      <td>296.0</td>\n",
       "      <td>15.3</td>\n",
       "      <td>396.90</td>\n",
       "      <td>4.98</td>\n",
       "    </tr>\n",
       "    <tr>\n",
       "      <th>1</th>\n",
       "      <td>0.02731</td>\n",
       "      <td>0.0</td>\n",
       "      <td>7.07</td>\n",
       "      <td>0.0</td>\n",
       "      <td>0.469</td>\n",
       "      <td>6.421</td>\n",
       "      <td>78.9</td>\n",
       "      <td>4.9671</td>\n",
       "      <td>2.0</td>\n",
       "      <td>242.0</td>\n",
       "      <td>17.8</td>\n",
       "      <td>396.90</td>\n",
       "      <td>9.14</td>\n",
       "    </tr>\n",
       "    <tr>\n",
       "      <th>2</th>\n",
       "      <td>0.02729</td>\n",
       "      <td>0.0</td>\n",
       "      <td>7.07</td>\n",
       "      <td>0.0</td>\n",
       "      <td>0.469</td>\n",
       "      <td>7.185</td>\n",
       "      <td>61.1</td>\n",
       "      <td>4.9671</td>\n",
       "      <td>2.0</td>\n",
       "      <td>242.0</td>\n",
       "      <td>17.8</td>\n",
       "      <td>392.83</td>\n",
       "      <td>4.03</td>\n",
       "    </tr>\n",
       "    <tr>\n",
       "      <th>3</th>\n",
       "      <td>0.03237</td>\n",
       "      <td>0.0</td>\n",
       "      <td>2.18</td>\n",
       "      <td>0.0</td>\n",
       "      <td>0.458</td>\n",
       "      <td>6.998</td>\n",
       "      <td>45.8</td>\n",
       "      <td>6.0622</td>\n",
       "      <td>3.0</td>\n",
       "      <td>222.0</td>\n",
       "      <td>18.7</td>\n",
       "      <td>394.63</td>\n",
       "      <td>2.94</td>\n",
       "    </tr>\n",
       "    <tr>\n",
       "      <th>4</th>\n",
       "      <td>0.06905</td>\n",
       "      <td>0.0</td>\n",
       "      <td>2.18</td>\n",
       "      <td>0.0</td>\n",
       "      <td>0.458</td>\n",
       "      <td>7.147</td>\n",
       "      <td>54.2</td>\n",
       "      <td>6.0622</td>\n",
       "      <td>3.0</td>\n",
       "      <td>222.0</td>\n",
       "      <td>18.7</td>\n",
       "      <td>396.90</td>\n",
       "      <td>5.33</td>\n",
       "    </tr>\n",
       "  </tbody>\n",
       "</table>\n",
       "</div>"
      ],
      "text/plain": [
       "      CRIM    ZN  INDUS  CHAS    NOX     RM   AGE     DIS  RAD    TAX  \\\n",
       "0  0.00632  18.0   2.31   0.0  0.538  6.575  65.2  4.0900  1.0  296.0   \n",
       "1  0.02731   0.0   7.07   0.0  0.469  6.421  78.9  4.9671  2.0  242.0   \n",
       "2  0.02729   0.0   7.07   0.0  0.469  7.185  61.1  4.9671  2.0  242.0   \n",
       "3  0.03237   0.0   2.18   0.0  0.458  6.998  45.8  6.0622  3.0  222.0   \n",
       "4  0.06905   0.0   2.18   0.0  0.458  7.147  54.2  6.0622  3.0  222.0   \n",
       "\n",
       "   PTRATIO       B  LSTAT  \n",
       "0     15.3  396.90   4.98  \n",
       "1     17.8  396.90   9.14  \n",
       "2     17.8  392.83   4.03  \n",
       "3     18.7  394.63   2.94  \n",
       "4     18.7  396.90   5.33  "
      ]
     },
     "execution_count": 12,
     "metadata": {},
     "output_type": "execute_result"
    }
   ],
   "source": [
    "df = pd.DataFrame(boston.data, columns=boston.feature_names)\n",
    "df.head()"
   ]
  },
  {
   "cell_type": "code",
   "execution_count": 7,
   "metadata": {},
   "outputs": [
    {
     "ename": "NameError",
     "evalue": "name 'df' is not defined",
     "output_type": "error",
     "traceback": [
      "\u001b[0;31m---------------------------------------------------------------------------\u001b[0m",
      "\u001b[0;31mNameError\u001b[0m                                 Traceback (most recent call last)",
      "\u001b[0;32m<ipython-input-7-633337079cd0>\u001b[0m in \u001b[0;36m<module>\u001b[0;34m()\u001b[0m\n\u001b[0;32m----> 1\u001b[0;31m \u001b[0mdf\u001b[0m\u001b[0;34m.\u001b[0m\u001b[0mshape\u001b[0m\u001b[0;34m\u001b[0m\u001b[0m\n\u001b[0m",
      "\u001b[0;31mNameError\u001b[0m: name 'df' is not defined"
     ]
    }
   ],
   "source": [
    "df.shape"
   ]
  },
  {
   "cell_type": "code",
   "execution_count": 42,
   "metadata": {
    "collapsed": true
   },
   "outputs": [],
   "source": [
    "X = df.values\n",
    "y = boston.target"
   ]
  },
  {
   "cell_type": "code",
   "execution_count": 40,
   "metadata": {
    "collapsed": true
   },
   "outputs": [],
   "source": [
    "from sklearn.linear_model import LinearRegression\n",
    "#LinearRegression패키지는 Normal Equation 으로 구현해 놓은 것. "
   ]
  },
  {
   "cell_type": "code",
   "execution_count": 41,
   "metadata": {
    "collapsed": true
   },
   "outputs": [],
   "source": [
    "lr_ne = LinearRegression(fit_intercept=True)\n"
   ]
  },
  {
   "cell_type": "markdown",
   "metadata": {},
   "source": [
    "Normal Equation은 함수 안에 파라미터가 별로 없음<br>\n",
    "noramlize= > 이부분은 우리가 직접 데이터 Standard 혹은 Minmax로 노멀라이즈 했으면<br>\n",
    "넣을 필요가 없음. <br>\n",
    "copy_X 는 x 복사 할지 안할지 <br>\n",
    "n_jobs = CPU 몇개 쓸지"
   ]
  },
  {
   "cell_type": "code",
   "execution_count": 45,
   "metadata": {
    "collapsed": true
   },
   "outputs": [],
   "source": [
    "from sklearn.model_selection import train_test_split\n",
    "X_train, X_test, y_train, y_test = train_test_split(\n",
    "    X, y, test_size = 0.33, random_state = 42)"
   ]
  },
  {
   "cell_type": "code",
   "execution_count": 46,
   "metadata": {},
   "outputs": [
    {
     "data": {
      "text/plain": [
       "LinearRegression(copy_X=True, fit_intercept=True, n_jobs=1, normalize=False)"
      ]
     },
     "execution_count": 46,
     "metadata": {},
     "output_type": "execute_result"
    }
   ],
   "source": [
    "lr_ne.fit(X_train, y_train)"
   ]
  },
  {
   "cell_type": "code",
   "execution_count": 47,
   "metadata": {},
   "outputs": [
    {
     "data": {
      "text/plain": [
       "(33.3880621893243,\n",
       " array([-1.28060398e-01,  3.77955693e-02,  5.86107797e-02,  3.24007007e+00,\n",
       "        -1.62222676e+01,  3.89352244e+00, -1.27879944e-02, -1.42326864e+00,\n",
       "         2.34513082e-01, -8.20261127e-03, -9.29950535e-01,  1.19151410e-02,\n",
       "        -5.48489997e-01]))"
      ]
     },
     "execution_count": 47,
     "metadata": {},
     "output_type": "execute_result"
    }
   ],
   "source": [
    "lr_ne.intercept_, lr_ne.coef_"
   ]
  },
  {
   "cell_type": "code",
   "execution_count": 49,
   "metadata": {
    "collapsed": true
   },
   "outputs": [],
   "source": [
    "y_hat = lr_ne.predict(X_test)\n",
    "y_true = y_test"
   ]
  },
  {
   "cell_type": "code",
   "execution_count": 26,
   "metadata": {
    "collapsed": true
   },
   "outputs": [
    {
     "data": {
      "text/plain": [
       "array([ 2.90873546e+01,  3.19912938e+00,  3.09101980e+01, -1.15647602e+01,\n",
       "       -2.78174616e+01, -3.23701757e+00,  8.19443864e+00,  1.86658220e+01,\n",
       "        3.56996967e+00, -2.04938545e+01, -2.47550225e+01,  2.35432404e+01,\n",
       "        1.71925608e+01,  3.56521007e+01, -1.56019101e+01,  1.27922014e+01,\n",
       "        2.70045043e-01,  1.59035645e+00, -2.53455157e+01,  1.79249236e+01,\n",
       "        1.81704267e+01, -1.85848453e+01,  3.99485453e+00, -1.92738111e+01,\n",
       "       -6.98937569e+00,  1.31908868e+00, -4.51688631e+00,  1.99358804e+01,\n",
       "        2.25201158e+01, -6.58952529e+00,  3.57412553e+01, -1.83286517e-01,\n",
       "       -9.02154286e+00, -6.60256461e+00, -5.68317167e+00, -2.67308232e+01,\n",
       "        1.16222322e+01, -1.03846823e+01,  3.39466165e+01, -2.71151661e+01,\n",
       "       -1.16617230e+01, -4.29633678e-01, -1.79429654e+01,  2.05203914e+01,\n",
       "       -1.50103404e+01, -2.05508831e+01, -3.27452372e+01,  9.53066801e+00,\n",
       "       -1.07978084e+01,  1.04974347e-01, -4.53608855e+00, -2.37587251e+01,\n",
       "        2.03137572e+01, -9.56916763e+00,  9.94439327e+00, -1.19064700e+01,\n",
       "        1.32348343e+01,  3.77299337e+01,  4.15092115e+01,  3.78815180e+00,\n",
       "       -1.74841639e+01, -2.86197196e+01, -1.46650173e+00,  1.85707676e+01,\n",
       "       -1.03663616e+01,  1.23745412e+00, -7.37204020e+00,  3.22843542e+01,\n",
       "       -1.05770742e+01,  2.55310466e+01, -7.68629970e+00, -4.30727879e+01,\n",
       "        2.28097336e+01, -2.57733881e+01,  3.37497496e+01, -1.63129383e+00,\n",
       "        3.74862844e+00, -2.11370557e+01, -2.44824633e+01,  1.64884242e+01,\n",
       "        5.36230835e+00,  1.99906985e+01, -1.53487975e+01, -3.84389030e+00,\n",
       "        2.11584415e+01, -6.79797331e+00,  3.73578026e+01,  4.65542992e+00,\n",
       "       -2.38290381e+01, -2.36085283e+01, -5.90307842e+00,  2.77698101e+01,\n",
       "       -7.99031271e+00,  1.63160340e+01,  6.61028431e+00,  3.70673252e+01,\n",
       "       -4.13101496e+01,  2.59183580e+01, -2.93166234e+01, -5.95872845e+00,\n",
       "       -1.78111410e+00, -1.13583580e+01, -2.00000852e+00,  3.54267286e+00,\n",
       "       -2.17947625e+01,  2.20671692e+01,  2.31191819e+01,  1.15189653e+01,\n",
       "        3.70624879e+01,  1.51510152e+01,  2.11718075e+01,  8.61917555e+00,\n",
       "        1.59655511e+01,  1.96382608e+01, -2.32059479e+01, -1.32679803e+01,\n",
       "        7.87164038e+00, -5.14184967e+00, -1.90198320e+01,  1.25419890e+01,\n",
       "        5.09382567e+00, -1.94718007e+01,  2.31459547e+01,  3.69058615e+00,\n",
       "        3.12889409e+01, -3.49696352e+01,  3.66010710e-01, -1.07215542e+00,\n",
       "       -1.45939157e+01,  2.45601593e+01,  5.73928661e+00,  8.31251390e+00,\n",
       "        2.27543779e+01, -2.25064205e+01,  1.66470248e+01,  5.22200192e+00,\n",
       "       -1.84187402e+00,  5.53212409e+00, -7.39208241e+00,  1.31653495e+01,\n",
       "       -9.74097045e+00,  4.04711599e+00, -1.88409448e+01, -2.60153057e+00,\n",
       "        1.07760876e+00,  3.51310126e+01, -9.19561532e+00,  5.12753929e+00,\n",
       "       -4.11454876e+01, -1.12984416e+01,  8.86382246e+00,  1.46657957e+01,\n",
       "        4.45750765e+00, -3.61718413e+00, -5.99269654e+00,  1.91055657e+00,\n",
       "       -1.52720873e+01,  4.62762933e+01,  6.41438128e+00, -2.81939538e+01,\n",
       "       -3.73327747e+00,  5.34247404e+01, -3.00269679e+01,  3.31581779e+01,\n",
       "       -1.96408695e+01,  1.02364328e+01,  5.77100508e+00,  2.80700136e+01,\n",
       "       -4.29334051e+00,  8.50809142e-01, -2.46270512e+01, -2.61224942e+01,\n",
       "       -1.65433714e+01,  1.02222915e+00, -4.44668880e+00,  2.51631088e+01,\n",
       "       -4.36260445e+00,  1.90421663e+01,  2.08685275e+01, -4.89608310e+01,\n",
       "        1.99173147e+00, -1.09034306e+01,  1.21731636e+01, -8.84213910e+00,\n",
       "        2.61376956e+01, -3.15273200e+01,  3.29056362e+01,  7.53023660e-01,\n",
       "       -4.74764885e+00,  6.59538448e+00,  3.20749960e+01, -3.40605266e+01,\n",
       "       -2.46827567e+01, -3.41293358e+00, -1.96517628e+01,  1.53223698e+00,\n",
       "        3.46426911e+00,  1.40327918e+00,  1.04148913e+01,  7.72493743e+00,\n",
       "       -1.77695628e+01, -4.23855682e+00,  7.50053406e+00,  2.03730114e+01,\n",
       "        8.01668706e+00, -5.27693743e+00, -3.36154492e+00,  8.67929083e+00,\n",
       "       -1.04657766e+01, -3.60426576e+00,  1.19561963e+01, -1.54279980e+01,\n",
       "       -3.54053774e+01,  8.41768798e+00,  1.75340042e+01, -7.30321935e+00,\n",
       "        1.24995298e+01,  4.96558450e+00, -8.76170302e+00,  2.11475852e+01,\n",
       "       -1.55671251e+01, -2.27957719e+01,  3.79010243e+00, -2.40605351e+01,\n",
       "       -1.19131288e+01, -1.79303077e+01,  1.11533518e+01,  1.14800241e+00,\n",
       "       -2.02951945e+01,  2.33970198e+01, -1.57529951e+01, -1.38401122e+01,\n",
       "        3.94081853e+00, -1.71311480e+01,  1.24361555e+01, -2.42104879e+01,\n",
       "       -1.50695531e+01, -2.91686265e+01,  3.19873545e+01, -1.76205641e+01,\n",
       "       -3.99020124e+00,  3.53639861e+00,  3.45603332e+01, -1.75810448e+01,\n",
       "        4.64009209e+00, -1.28561020e+01, -1.10770701e+01, -6.68429244e+00,\n",
       "        2.00706909e+01,  7.11141424e+00,  4.66286627e+00,  1.16637976e+01,\n",
       "       -1.56807128e+01,  1.29671603e+01, -2.09313005e+01, -1.38720722e+01,\n",
       "       -1.79176270e+01,  1.91716185e+01, -3.54959018e+00,  3.37844061e+01,\n",
       "       -1.09946332e+01, -7.37184278e+00,  5.84690003e+00, -5.55809510e+00,\n",
       "       -1.82956383e+01,  2.49682881e+00, -2.63494819e+01,  7.21918077e+00,\n",
       "        3.19204132e+00, -3.50770325e+01, -2.38657112e+01, -5.96533916e+00,\n",
       "       -2.09540416e+01,  8.79794418e+00, -2.08172824e-01,  6.88348836e+00,\n",
       "        4.75973775e-02, -3.85743257e+01,  2.17847807e+01, -1.36323628e+01,\n",
       "       -2.21272497e+01,  1.00461403e+00, -4.40086008e+01,  3.00053826e+00,\n",
       "        1.27956059e+01,  1.27659789e+01, -2.91165071e+01, -1.80925212e+01,\n",
       "        5.84166444e+00, -2.07251892e+01,  1.58812225e+01, -1.61691546e+01,\n",
       "       -3.94317936e+00,  1.34424711e+01, -2.03009324e+01,  4.85789185e+00,\n",
       "       -1.84698266e+01, -6.71220612e+00,  3.03343732e+01,  7.01502586e+00,\n",
       "        9.59288966e+00,  1.07813162e+01,  3.70173679e+00,  9.61264328e+00,\n",
       "        4.82653793e+00, -1.02190414e+01, -2.56111123e+01, -2.40135027e+00,\n",
       "       -3.89709077e+00,  9.54267711e+00, -1.09006940e+01,  2.24039285e+01,\n",
       "        4.55792101e+00,  1.08818580e+01, -6.71754458e+00,  3.97540188e+01,\n",
       "        6.14929249e+00,  2.06544313e+01, -1.86114176e+01, -1.62546544e+01,\n",
       "        3.94167805e+01, -2.98869024e-02, -1.61536459e+01,  8.44770593e-01,\n",
       "        1.05312183e+01, -7.12141001e+00,  1.81321434e+01, -6.95727898e+00,\n",
       "       -2.15928477e+01,  1.41810918e+01])"
      ]
     },
     "execution_count": 26,
     "metadata": {},
     "output_type": "execute_result"
    }
   ],
   "source": [
    "y_true"
   ]
  },
  {
   "cell_type": "code",
   "execution_count": 51,
   "metadata": {},
   "outputs": [
    {
     "data": {
      "text/plain": [
       "4.554903221837861"
      ]
     },
     "execution_count": 51,
     "metadata": {},
     "output_type": "execute_result"
    }
   ],
   "source": [
    "rmse = np.sqrt(sum((y_hat-y_true)**2)/len(y_true))\n",
    "rmse"
   ]
  },
  {
   "cell_type": "code",
   "execution_count": 56,
   "metadata": {},
   "outputs": [
    {
     "data": {
      "text/plain": [
       "20.747143360308932"
      ]
     },
     "execution_count": 56,
     "metadata": {},
     "output_type": "execute_result"
    }
   ],
   "source": [
    "import sklearn\n",
    "mse = sklearn.metrics.mean_squared_error(y_hat, y_true)\n",
    "mse"
   ]
  },
  {
   "cell_type": "code",
   "execution_count": 58,
   "metadata": {},
   "outputs": [
    {
     "data": {
      "text/plain": [
       "<matplotlib.text.Text at 0x1a24d05f98>"
      ]
     },
     "execution_count": 58,
     "metadata": {},
     "output_type": "execute_result"
    },
    {
     "data": {
      "image/png": "[encoded data removed]",
      "text/plain": [
       "<matplotlib.figure.Figure at 0x1a24c316a0>"
      ]
     },
     "metadata": {},
     "output_type": "display_data"
    }
   ],
   "source": [
    "plt.scatter(y_true, y_hat, s=10)\n",
    "plt.xlabel(\"Prices: $Y_i$\")\n",
    "plt.ylabel(\"Predicted prices : $\\hat{Y}_i$\")\n",
    "plt.title(\"Prices vs Predicted prices: $Y_i$ vs $\\hat{Y}_i$\")\n",
    "#어느정도 Linear 하게 나가지"
   ]
  },
  {
   "cell_type": "markdown",
   "metadata": {},
   "source": [
    "# Linear Regression with SGD"
   ]
  },
  {
   "cell_type": "markdown",
   "metadata": {},
   "source": [
    "근데 LinearRegression SGD쓸 필요가 없어. <br>\n",
    "그냥 Normal Equation 쓰면 돼. "
   ]
  },
  {
   "cell_type": "code",
   "execution_count": 67,
   "metadata": {
    "collapsed": true
   },
   "outputs": [],
   "source": [
    "\n",
    "from sklearn.linear_model import SGDRegressor\n",
    "#Gradient Descent 기반은 상당히 함수에 파라미터가 많음\n",
    "lr_SGD = SGDRegressor()\n",
    "#loss, penalty(l1, l2), alpha-> regulization할 때 lambda\n",
    "#tolerance -> 이전 loss와 다음 loss가 얼마 이상 차이나면 멈출건지\n",
    "#eta0는 learning rate그 자체 \n",
    "#learing rate -> 는 러닝레이트 내릴껀지 그 공식을 말함"
   ]
  },
  {
   "cell_type": "code",
   "execution_count": 60,
   "metadata": {
    "collapsed": true
   },
   "outputs": [],
   "source": [
    "from sklearn.preprocessing import StandardScaler\n",
    "std_scaler = StandardScaler()\n",
    "std_scaler.fit(X)\n",
    "X_scaled = std_scaler.transform(X)"
   ]
  },
  {
   "cell_type": "code",
   "execution_count": 61,
   "metadata": {
    "collapsed": true
   },
   "outputs": [],
   "source": [
    "from sklearn.model_selection import train_test_split"
   ]
  },
  {
   "cell_type": "code",
   "execution_count": 80,
   "metadata": {
    "collapsed": true
   },
   "outputs": [],
   "source": [
    "X_train, X_test, y_train, y_test = train_test_split(\n",
    "    X_scaled, y, test_size = 0.33, random_state=42)"
   ]
  },
  {
   "cell_type": "code",
   "execution_count": 81,
   "metadata": {},
   "outputs": [
    {
     "name": "stderr",
     "output_type": "stream",
     "text": [
      "/Users/sanghyuk/anaconda/lib/python3.6/site-packages/sklearn/linear_model/stochastic_gradient.py:128: FutureWarning: max_iter and tol parameters have been added in <class 'sklearn.linear_model.stochastic_gradient.SGDRegressor'> in 0.19. If both are left unset, they default to max_iter=5 and tol=None. If tol is not None, max_iter defaults to max_iter=1000. From 0.21, default max_iter will be 1000, and default tol will be 1e-3.\n",
      "  \"and default tol will be 1e-3.\" % type(self), FutureWarning)\n"
     ]
    },
    {
     "data": {
      "text/plain": [
       "SGDRegressor(alpha=0.0001, average=False, epsilon=0.1, eta0=0.01,\n",
       "       fit_intercept=True, l1_ratio=0.15, learning_rate='invscaling',\n",
       "       loss='squared_loss', max_iter=None, n_iter=None, penalty='l2',\n",
       "       power_t=0.25, random_state=None, shuffle=True, tol=None, verbose=0,\n",
       "       warm_start=False)"
      ]
     },
     "execution_count": 81,
     "metadata": {},
     "output_type": "execute_result"
    }
   ],
   "source": [
    "lr_SGD.fit(X_train, y_train)"
   ]
  },
  {
   "cell_type": "code",
   "execution_count": 82,
   "metadata": {
    "collapsed": true
   },
   "outputs": [],
   "source": [
    "y_hat = lr_SGD.predict(X_test)\n",
    "y_true = y_test"
   ]
  },
  {
   "cell_type": "code",
   "execution_count": 83,
   "metadata": {},
   "outputs": [
    {
     "data": {
      "text/plain": [
       "(4.840872696597067, 23.43404846465897)"
      ]
     },
     "execution_count": 83,
     "metadata": {},
     "output_type": "execute_result"
    }
   ],
   "source": [
    "mse = sklearn.metrics.mean_squared_error(y_hat, y_true)\n",
    "rmse = np.sqrt(sum((y_hat-y_true)**2)/len(y_true))\n",
    "rmse, mse"
   ]
  },
  {
   "cell_type": "code",
   "execution_count": 85,
   "metadata": {},
   "outputs": [
    {
     "data": {
      "text/plain": [
       "<matplotlib.text.Text at 0x1a25690a20>"
      ]
     },
     "execution_count": 85,
     "metadata": {},
     "output_type": "execute_result"
    },
    {
     "data": {
      "image/png": "[encoded data removed]",
      "text/plain": [
       "<matplotlib.figure.Figure at 0x1a253efbe0>"
      ]
     },
     "metadata": {},
     "output_type": "display_data"
    }
   ],
   "source": [
    "plt.scatter(y_true, y_hat, s=10)\n",
    "plt.xlabel(\"Prices: $Y_i$\")\n",
    "plt.ylabel(\"Predicted prices : $\\hat{Y}_i$\")\n",
    "plt.title(\"Prices vs Predicted prices: $Y_i$ vs $\\hat{Y}_i$\")\n",
    "#학습이 잘 됬음(Scaled Data 덕분)"
   ]
  },
  {
   "cell_type": "markdown",
   "metadata": {},
   "source": [
    "# Linear Regression with Ridge & Lasso Regression"
   ]
  },
  {
   "cell_type": "code",
   "execution_count": 91,
   "metadata": {
    "collapsed": true
   },
   "outputs": [],
   "source": [
    "from sklearn.linear_model import Lasso, Ridge\n",
    "#릿지든 랏소든, Normal Equation 이랑도 되고, GD랑도 되지"
   ]
  },
  {
   "cell_type": "code",
   "execution_count": 87,
   "metadata": {
    "collapsed": true
   },
   "outputs": [],
   "source": [
    "from sklearn.model_selection import train_test_split\n",
    "X_train, X_test, y_train, y_test = train_test_split(\n",
    "    X, y, test_size = 0.33, random_state = 42)"
   ]
  },
  {
   "cell_type": "code",
   "execution_count": 92,
   "metadata": {},
   "outputs": [
    {
     "data": {
      "text/plain": [
       "Ridge(alpha=0.5, copy_X=True, fit_intercept=True, max_iter=None,\n",
       "   normalize=False, random_state=None, solver='auto', tol=0.001)"
      ]
     },
     "execution_count": 92,
     "metadata": {},
     "output_type": "execute_result"
    }
   ],
   "source": [
    "ridge = Ridge(fit_intercept=True, alpha = 0.5)\n",
    "#alpha mean lambda value\n",
    "ridge.fit(X_train, y_train)\n",
    "#lasso = Lasso(fit_intercept=True, alpha=0.5)"
   ]
  },
  {
   "cell_type": "code",
   "execution_count": 93,
   "metadata": {
    "collapsed": true
   },
   "outputs": [],
   "source": [
    "y_hat = ridge.predict(X_test)\n",
    "y_true = y_test"
   ]
  },
  {
   "cell_type": "code",
   "execution_count": 94,
   "metadata": {},
   "outputs": [
    {
     "data": {
      "text/plain": [
       "(4.581368851153035, 20.988940550315267)"
      ]
     },
     "execution_count": 94,
     "metadata": {},
     "output_type": "execute_result"
    }
   ],
   "source": [
    "mse = sklearn.metrics.mean_squared_error(y_hat, y_true)\n",
    "rmse = np.sqrt(sum((y_hat-y_true)**2)/len(y_true))\n",
    "rmse, mse"
   ]
  },
  {
   "cell_type": "code",
   "execution_count": 95,
   "metadata": {},
   "outputs": [
    {
     "data": {
      "text/plain": [
       "<matplotlib.text.Text at 0x1a2586a048>"
      ]
     },
     "execution_count": 95,
     "metadata": {},
     "output_type": "execute_result"
    },
    {
     "data": {
      "image/png": "[encoded data removed]",
      "text/plain": [
       "<matplotlib.figure.Figure at 0x1a25689588>"
      ]
     },
     "metadata": {},
     "output_type": "display_data"
    }
   ],
   "source": [
    "plt.scatter(y_true, y_hat, s=10)\n",
    "plt.xlabel(\"Prices: $Y_i$\")\n",
    "plt.ylabel(\"Predicted prices : $\\hat{Y}_i$\")\n",
    "plt.title(\"Prices vs Predicted prices: $Y_i$ vs $\\hat{Y}_i$\")\n",
    "#학습이 잘 됬음(Scaled Data 덕분)"
   ]
  },
  {
   "cell_type": "markdown",
   "metadata": {},
   "source": [
    "### 람다 값 계속 바꿔가면서 릿지 그려 보기"
   ]
  },
  {
   "cell_type": "code",
   "execution_count": 118,
   "metadata": {},
   "outputs": [
    {
     "name": "stdout",
     "output_type": "stream",
     "text": [
      "Ridge Regression\n",
      "alpha\t RMSE_train\t RMSE_10cv\n",
      "\n",
      "51\n",
      "0\n",
      "0\n",
      "0\n",
      "0\n",
      "0\n",
      "0\n",
      "0\n",
      "0\n",
      "0\n",
      "0.010\t 4.5554\t\t 5.8806\n",
      "51\n",
      "0\n",
      "0\n",
      "0\n",
      "0\n",
      "0\n",
      "0\n",
      "0\n",
      "0\n",
      "0\n",
      "0.418\t 4.5773\t\t 5.8467\n",
      "51\n",
      "0\n",
      "0\n",
      "0\n",
      "0\n",
      "0\n",
      "0\n",
      "0\n",
      "0\n",
      "0\n",
      "0.826\t 4.5957\t\t 5.8319\n",
      "51\n",
      "0\n",
      "0\n",
      "0\n",
      "0\n",
      "0\n",
      "0\n",
      "0\n",
      "0\n",
      "0\n",
      "1.234\t 4.6097\t\t 5.8234\n",
      "51\n",
      "0\n",
      "0\n",
      "0\n",
      "0\n",
      "0\n",
      "0\n",
      "0\n",
      "0\n",
      "0\n",
      "1.642\t 4.6203\t\t 5.8175\n",
      "51\n",
      "0\n",
      "0\n",
      "0\n",
      "0\n",
      "0\n",
      "0\n",
      "0\n",
      "0\n",
      "0\n",
      "2.050\t 4.6284\t\t 5.8126\n",
      "51\n",
      "0\n",
      "0\n",
      "0\n",
      "0\n",
      "0\n",
      "0\n",
      "0\n",
      "0\n",
      "0\n",
      "2.458\t 4.6349\t\t 5.8082\n",
      "51\n",
      "0\n",
      "0\n",
      "0\n",
      "0\n",
      "0\n",
      "0\n",
      "0\n",
      "0\n",
      "0\n",
      "2.866\t 4.6402\t\t 5.8041\n",
      "51\n",
      "0\n",
      "0\n",
      "0\n",
      "0\n",
      "0\n",
      "0\n",
      "0\n",
      "0\n",
      "0\n",
      "3.274\t 4.6445\t\t 5.8000\n",
      "51\n",
      "0\n",
      "0\n",
      "0\n",
      "0\n",
      "0\n",
      "0\n",
      "0\n",
      "0\n",
      "0\n",
      "3.682\t 4.6481\t\t 5.7960\n",
      "51\n",
      "0\n",
      "0\n",
      "0\n",
      "0\n",
      "0\n",
      "0\n",
      "0\n",
      "0\n",
      "0\n",
      "4.090\t 4.6512\t\t 5.7920\n",
      "51\n",
      "0\n",
      "0\n",
      "0\n",
      "0\n",
      "0\n",
      "0\n",
      "0\n",
      "0\n",
      "0\n",
      "4.498\t 4.6538\t\t 5.7880\n",
      "51\n",
      "0\n",
      "0\n",
      "0\n",
      "0\n",
      "0\n",
      "0\n",
      "0\n",
      "0\n",
      "0\n",
      "4.906\t 4.6562\t\t 5.7840\n",
      "51\n",
      "0\n",
      "0\n",
      "0\n",
      "0\n",
      "0\n",
      "0\n",
      "0\n",
      "0\n",
      "0\n",
      "5.313\t 4.6582\t\t 5.7800\n",
      "51\n",
      "0\n",
      "0\n",
      "0\n",
      "0\n",
      "0\n",
      "0\n",
      "0\n",
      "0\n",
      "0\n",
      "5.721\t 4.6600\t\t 5.7760\n",
      "51\n",
      "0\n",
      "0\n",
      "0\n",
      "0\n",
      "0\n",
      "0\n",
      "0\n",
      "0\n",
      "0\n",
      "6.129\t 4.6616\t\t 5.7720\n",
      "51\n",
      "0\n",
      "0\n",
      "0\n",
      "0\n",
      "0\n",
      "0\n",
      "0\n",
      "0\n",
      "0\n",
      "6.537\t 4.6631\t\t 5.7680\n",
      "51\n",
      "0\n",
      "0\n",
      "0\n",
      "0\n",
      "0\n",
      "0\n",
      "0\n",
      "0\n",
      "0\n",
      "6.945\t 4.6644\t\t 5.7641\n",
      "51\n",
      "0\n",
      "0\n",
      "0\n",
      "0\n",
      "0\n",
      "0\n",
      "0\n",
      "0\n",
      "0\n",
      "7.353\t 4.6657\t\t 5.7602\n",
      "51\n",
      "0\n",
      "0\n",
      "0\n",
      "0\n",
      "0\n",
      "0\n",
      "0\n",
      "0\n",
      "0\n",
      "7.761\t 4.6668\t\t 5.7563\n",
      "51\n",
      "0\n",
      "0\n",
      "0\n",
      "0\n",
      "0\n",
      "0\n",
      "0\n",
      "0\n",
      "0\n",
      "8.169\t 4.6679\t\t 5.7524\n",
      "51\n",
      "0\n",
      "0\n",
      "0\n",
      "0\n",
      "0\n",
      "0\n",
      "0\n",
      "0\n",
      "0\n",
      "8.577\t 4.6689\t\t 5.7485\n",
      "51\n",
      "0\n",
      "0\n",
      "0\n",
      "0\n",
      "0\n",
      "0\n",
      "0\n",
      "0\n",
      "0\n",
      "8.985\t 4.6698\t\t 5.7447\n",
      "51\n",
      "0\n",
      "0\n",
      "0\n",
      "0\n",
      "0\n",
      "0\n",
      "0\n",
      "0\n",
      "0\n",
      "9.393\t 4.6707\t\t 5.7410\n",
      "51\n",
      "0\n",
      "0\n",
      "0\n",
      "0\n",
      "0\n",
      "0\n",
      "0\n",
      "0\n",
      "0\n",
      "9.801\t 4.6716\t\t 5.7372\n",
      "51\n",
      "0\n",
      "0\n",
      "0\n",
      "0\n",
      "0\n",
      "0\n",
      "0\n",
      "0\n",
      "0\n",
      "10.209\t 4.6724\t\t 5.7335\n",
      "51\n",
      "0\n",
      "0\n",
      "0\n",
      "0\n",
      "0\n",
      "0\n",
      "0\n",
      "0\n",
      "0\n",
      "10.617\t 4.6732\t\t 5.7298\n",
      "51\n",
      "0\n",
      "0\n",
      "0\n",
      "0\n",
      "0\n",
      "0\n",
      "0\n",
      "0\n",
      "0\n",
      "11.025\t 4.6739\t\t 5.7262\n",
      "51\n",
      "0\n",
      "0\n",
      "0\n",
      "0\n",
      "0\n",
      "0\n",
      "0\n",
      "0\n",
      "0\n",
      "11.433\t 4.6747\t\t 5.7226\n",
      "51\n",
      "0\n",
      "0\n",
      "0\n",
      "0\n",
      "0\n",
      "0\n",
      "0\n",
      "0\n",
      "0\n",
      "11.841\t 4.6754\t\t 5.7190\n",
      "51\n",
      "0\n",
      "0\n",
      "0\n",
      "0\n",
      "0\n",
      "0\n",
      "0\n",
      "0\n",
      "0\n",
      "12.249\t 4.6761\t\t 5.7155\n",
      "51\n",
      "0\n",
      "0\n",
      "0\n",
      "0\n",
      "0\n",
      "0\n",
      "0\n",
      "0\n",
      "0\n",
      "12.657\t 4.6768\t\t 5.7120\n",
      "51\n",
      "0\n",
      "0\n",
      "0\n",
      "0\n",
      "0\n",
      "0\n",
      "0\n",
      "0\n",
      "0\n",
      "13.065\t 4.6774\t\t 5.7086\n",
      "51\n",
      "0\n",
      "0\n",
      "0\n",
      "0\n",
      "0\n",
      "0\n",
      "0\n",
      "0\n",
      "0\n",
      "13.473\t 4.6781\t\t 5.7052\n",
      "51\n",
      "0\n",
      "0\n",
      "0\n",
      "0\n",
      "0\n",
      "0\n",
      "0\n",
      "0\n",
      "0\n",
      "13.881\t 4.6787\t\t 5.7018\n",
      "51\n",
      "0\n",
      "0\n",
      "0\n",
      "0\n",
      "0\n",
      "0\n",
      "0\n",
      "0\n",
      "0\n",
      "14.289\t 4.6793\t\t 5.6985\n",
      "51\n",
      "0\n",
      "0\n",
      "0\n",
      "0\n",
      "0\n",
      "0\n",
      "0\n",
      "0\n",
      "0\n",
      "14.697\t 4.6799\t\t 5.6952\n",
      "51\n",
      "0\n",
      "0\n",
      "0\n",
      "0\n",
      "0\n",
      "0\n",
      "0\n",
      "0\n",
      "0\n",
      "15.104\t 4.6806\t\t 5.6919\n",
      "51\n",
      "0\n",
      "0\n",
      "0\n",
      "0\n",
      "0\n",
      "0\n",
      "0\n",
      "0\n",
      "0\n",
      "15.512\t 4.6812\t\t 5.6887\n",
      "51\n",
      "0\n",
      "0\n",
      "0\n",
      "0\n",
      "0\n",
      "0\n",
      "0\n",
      "0\n",
      "0\n",
      "15.920\t 4.6818\t\t 5.6856\n",
      "51\n",
      "0\n",
      "0\n",
      "0\n",
      "0\n",
      "0\n",
      "0\n",
      "0\n",
      "0\n",
      "0\n",
      "16.328\t 4.6824\t\t 5.6824\n",
      "51\n",
      "0\n",
      "0\n",
      "0\n",
      "0\n",
      "0\n",
      "0\n",
      "0\n",
      "0\n",
      "0\n",
      "16.736\t 4.6829\t\t 5.6793\n",
      "51\n",
      "0\n",
      "0\n",
      "0\n",
      "0\n",
      "0\n",
      "0\n",
      "0\n",
      "0\n",
      "0\n",
      "17.144\t 4.6835\t\t 5.6762\n",
      "51\n",
      "0\n",
      "0\n",
      "0\n",
      "0\n",
      "0\n",
      "0\n",
      "0\n",
      "0\n",
      "0\n",
      "17.552\t 4.6841\t\t 5.6732\n",
      "51\n",
      "0\n",
      "0\n",
      "0\n",
      "0\n",
      "0\n",
      "0\n",
      "0\n",
      "0\n",
      "0\n",
      "17.960\t 4.6847\t\t 5.6702\n",
      "51\n",
      "0\n",
      "0\n",
      "0\n",
      "0\n",
      "0\n",
      "0\n",
      "0\n",
      "0\n",
      "0\n",
      "18.368\t 4.6853\t\t 5.6672\n",
      "51\n",
      "0\n",
      "0\n",
      "0\n",
      "0\n",
      "0\n",
      "0\n",
      "0\n",
      "0\n",
      "0\n",
      "18.776\t 4.6858\t\t 5.6643\n",
      "51\n",
      "0\n",
      "0\n",
      "0\n",
      "0\n",
      "0\n",
      "0\n",
      "0\n",
      "0\n",
      "0\n",
      "19.184\t 4.6864\t\t 5.6614\n",
      "51\n",
      "0\n",
      "0\n",
      "0\n",
      "0\n",
      "0\n",
      "0\n",
      "0\n",
      "0\n",
      "0\n",
      "19.592\t 4.6870\t\t 5.6585\n",
      "51\n",
      "0\n",
      "0\n",
      "0\n",
      "0\n",
      "0\n",
      "0\n",
      "0\n",
      "0\n",
      "0\n",
      "20.000\t 4.6876\t\t 5.6557\n"
     ]
    }
   ],
   "source": [
    "from sklearn.model_selection import KFold\n",
    "\n",
    "print('Ridge Regression')\n",
    "print('alpha\\t RMSE_train\\t RMSE_10cv\\n')\n",
    "alpha = np.linspace(.01,20,50)\n",
    "# 20부터 50까지 0.01간격으로\n",
    "t_rmse = np.array([])\n",
    "cv_rmse = np.array([])\n",
    "\n",
    "for a in alpha:\n",
    "    ridge = Ridge(fit_intercept=True, alpha=a)\n",
    "    \n",
    "    # computing the RMSE on training data\n",
    "    ridge.fit(X_train,y_train)\n",
    "    p = ridge.predict(X_test)\n",
    "    err = p-y_test\n",
    "    total_error = np.dot(err,err)\n",
    "    rmse_train = np.sqrt(total_error/len(p))\n",
    "    #여기까지는 해당 alpha넣고 rmse구하고\n",
    "\n",
    "    # computing RMSE using 10-fold cross validation\n",
    "    kf = KFold(10)\n",
    "    xval_err = 0\n",
    "    for train, test in kf.split(X):\n",
    "        #train이랑 test가 인덱스 return 함\n",
    "        ridge.fit(X[train], y[train])\n",
    "        p = ridge.predict(X[test])\n",
    "        err = p - y[test]\n",
    "        xval_err += np.dot(err,err)\n",
    "    rmse_10cv = np.sqrt(xval_err/len(X))\n",
    "    \n",
    "    t_rmse = np.append(t_rmse, [rmse_train])\n",
    "    cv_rmse = np.append(cv_rmse, [rmse_10cv])\n",
    "    print('{:.3f}\\t {:.4f}\\t\\t {:.4f}'.format(a,rmse_train,rmse_10cv))"
   ]
  },
  {
   "cell_type": "code",
   "execution_count": 111,
   "metadata": {},
   "outputs": [
    {
     "data": {
      "text/plain": [
       "array([[6.3200e-03, 1.8000e+01, 2.3100e+00, ..., 1.5300e+01, 3.9690e+02,\n",
       "        4.9800e+00],\n",
       "       [2.7310e-02, 0.0000e+00, 7.0700e+00, ..., 1.7800e+01, 3.9690e+02,\n",
       "        9.1400e+00],\n",
       "       [2.7290e-02, 0.0000e+00, 7.0700e+00, ..., 1.7800e+01, 3.9283e+02,\n",
       "        4.0300e+00],\n",
       "       ...,\n",
       "       [6.0760e-02, 0.0000e+00, 1.1930e+01, ..., 2.1000e+01, 3.9690e+02,\n",
       "        5.6400e+00],\n",
       "       [1.0959e-01, 0.0000e+00, 1.1930e+01, ..., 2.1000e+01, 3.9345e+02,\n",
       "        6.4800e+00],\n",
       "       [4.7410e-02, 0.0000e+00, 1.1930e+01, ..., 2.1000e+01, 3.9690e+02,\n",
       "        7.8800e+00]])"
      ]
     },
     "execution_count": 111,
     "metadata": {},
     "output_type": "execute_result"
    }
   ],
   "source": [
    "kf=KFold(10)\n",
    "# for train, test in kf.split(X):\n",
    "#     print(X[train])\n",
    "#     print(X[test])\n",
    "\n",
    "X"
   ]
  },
  {
   "cell_type": "code",
   "execution_count": 96,
   "metadata": {
    "collapsed": true
   },
   "outputs": [
    {
     "data": {
      "text/plain": [
       "array([1.00000000e-02, 4.17959184e-01, 8.25918367e-01, 1.23387755e+00,\n",
       "       1.64183673e+00, 2.04979592e+00, 2.45775510e+00, 2.86571429e+00,\n",
       "       3.27367347e+00, 3.68163265e+00, 4.08959184e+00, 4.49755102e+00,\n",
       "       4.90551020e+00, 5.31346939e+00, 5.72142857e+00, 6.12938776e+00,\n",
       "       6.53734694e+00, 6.94530612e+00, 7.35326531e+00, 7.76122449e+00,\n",
       "       8.16918367e+00, 8.57714286e+00, 8.98510204e+00, 9.39306122e+00,\n",
       "       9.80102041e+00, 1.02089796e+01, 1.06169388e+01, 1.10248980e+01,\n",
       "       1.14328571e+01, 1.18408163e+01, 1.22487755e+01, 1.26567347e+01,\n",
       "       1.30646939e+01, 1.34726531e+01, 1.38806122e+01, 1.42885714e+01,\n",
       "       1.46965306e+01, 1.51044898e+01, 1.55124490e+01, 1.59204082e+01,\n",
       "       1.63283673e+01, 1.67363265e+01, 1.71442857e+01, 1.75522449e+01,\n",
       "       1.79602041e+01, 1.83681633e+01, 1.87761224e+01, 1.91840816e+01,\n",
       "       1.95920408e+01, 2.00000000e+01])"
      ]
     },
     "execution_count": 96,
     "metadata": {},
     "output_type": "execute_result"
    }
   ],
   "source": [
    "np.linspace(0.01, 20, 50)"
   ]
  },
  {
   "cell_type": "code",
   "execution_count": 99,
   "metadata": {},
   "outputs": [
    {
     "data": {
      "image/png": "[encoded data removed]",
      "text/plain": [
       "<matplotlib.figure.Figure at 0x1a255a7780>"
      ]
     },
     "metadata": {},
     "output_type": "display_data"
    }
   ],
   "source": [
    "plt.plot(alpha, t_rmse, label='RMSE-Train')\n",
    "plt.plot(alpha, cv_rmse, label='RMSE_XVal')\n",
    "plt.legend( ('RMSE-Train', 'RMSE_XVal') )\n",
    "plt.ylabel('RMSE')\n",
    "plt.xlabel('Alpha')\n",
    "plt.show()\n",
    "#람다 늘릴수록 기존 Train 의 RMSE는 늘어나고\n",
    "# TEST데이터의 RMSE 늘어남. "
   ]
  },
  {
   "cell_type": "code",
   "execution_count": 100,
   "metadata": {},
   "outputs": [
    {
     "name": "stdout",
     "output_type": "stream",
     "text": [
      "Method: linear regression\n",
      "RMSE on training: 4.5549\n",
      "RMSE on 10-fold CV: 5.8819\n",
      "Method: lasso\n",
      "RMSE on training: 4.7270\n",
      "RMSE on 10-fold CV: 5.7675\n",
      "Method: ridge\n",
      "RMSE on training: 4.5710\n",
      "RMSE on 10-fold CV: 5.8535\n"
     ]
    }
   ],
   "source": [
    "a = 0.3\n",
    "for name,met in [\n",
    "        ('linear regression', LinearRegression()),\n",
    "        ('lasso', Lasso(fit_intercept=True, alpha=a)),\n",
    "        ('ridge', Ridge(fit_intercept=True, alpha=a)),\n",
    "        ]:\n",
    "    met.fit(X_train,y_train)\n",
    "    # p = np.array([met.predict(xi) for xi in x])\n",
    "    p = met.predict(X_test)\n",
    "    e = p-y_test\n",
    "    total_error = np.dot(e,e)\n",
    "    rmse_train = np.sqrt(total_error/len(p))\n",
    "\n",
    "    kf = KFold(10)\n",
    "    err = 0\n",
    "    for train,test in kf.split(X):\n",
    "        met.fit(X[train],y[train])\n",
    "        p = met.predict(X[test])\n",
    "        e = p-y[test]\n",
    "        err += np.dot(e,e)\n",
    "\n",
    "    rmse_10cv = np.sqrt(err/len(X))\n",
    "    print('Method: %s' %name)\n",
    "    print('RMSE on training: %.4f' %rmse_train)\n",
    "    print('RMSE on 10-fold CV: %.4f' %rmse_10cv)"
   ]
  },
  {
   "cell_type": "markdown",
   "metadata": {},
   "source": [
    "### 특별한 경우가 아니면 <br>\n",
    "SGD보다는 Lasso나 Ridge를 쓰는게 더 좋은 성능을 낸다. "
   ]
  },
  {
   "cell_type": "markdown",
   "metadata": {},
   "source": [
    "## Polynomial Regression"
   ]
  },
  {
   "cell_type": "code",
   "execution_count": 119,
   "metadata": {
    "collapsed": true
   },
   "outputs": [],
   "source": [
    "import numpy as np\n",
    "import matplotlib.pyplot as plt"
   ]
  },
  {
   "cell_type": "code",
   "execution_count": 120,
   "metadata": {
    "collapsed": true
   },
   "outputs": [],
   "source": [
    "def f(size):\n",
    "    x = np.linspace(0, 5, size)\n",
    "    y = x*np.sin(x**2) + 1\n",
    "    return (x, y)"
   ]
  },
  {
   "cell_type": "code",
   "execution_count": 122,
   "metadata": {
    "collapsed": true
   },
   "outputs": [],
   "source": [
    "def sample(size):\n",
    "    x = np.linspace(0, 5, size)\n",
    "    y = x*np.sin(x**2) +1 + np.random.randn(x.size)*0.5\n",
    "    return (x, y)"
   ]
  },
  {
   "cell_type": "code",
   "execution_count": 123,
   "metadata": {
    "collapsed": true
   },
   "outputs": [],
   "source": [
    "f_x, f_y = f(100)"
   ]
  },
  {
   "cell_type": "code",
   "execution_count": 124,
   "metadata": {},
   "outputs": [
    {
     "data": {
      "text/plain": [
       "[<matplotlib.lines.Line2D at 0x1a255bb048>]"
      ]
     },
     "execution_count": 124,
     "metadata": {},
     "output_type": "execute_result"
    },
    {
     "data": {
      "image/png": "[encoded data removed]",
      "text/plain": [
       "<matplotlib.figure.Figure at 0x1a2596d550>"
      ]
     },
     "metadata": {},
     "output_type": "display_data"
    }
   ],
   "source": [
    "plt.plot(f_x, f_y)"
   ]
  },
  {
   "cell_type": "code",
   "execution_count": 126,
   "metadata": {},
   "outputs": [
    {
     "data": {
      "image/png": "[encoded data removed]",
      "text/plain": [
       "<matplotlib.figure.Figure at 0x1a25557e10>"
      ]
     },
     "metadata": {},
     "output_type": "display_data"
    }
   ],
   "source": [
    "X, y = sample(1000)\n",
    "plt.scatter(X, y, s =3, c=\"black\")\n",
    "plt.show()"
   ]
  },
  {
   "cell_type": "code",
   "execution_count": 127,
   "metadata": {},
   "outputs": [
    {
     "data": {
      "text/plain": [
       "((1000,), (1000,))"
      ]
     },
     "execution_count": 127,
     "metadata": {},
     "output_type": "execute_result"
    }
   ],
   "source": [
    "X.shape, y.shape"
   ]
  },
  {
   "cell_type": "code",
   "execution_count": 129,
   "metadata": {
    "collapsed": true
   },
   "outputs": [],
   "source": [
    "X = X.reshape(-1, 1)\n",
    "y = y.reshape(-1, 1)"
   ]
  },
  {
   "cell_type": "code",
   "execution_count": 134,
   "metadata": {},
   "outputs": [
    {
     "data": {
      "text/plain": [
       "LinearRegression(copy_X=True, fit_intercept=True, n_jobs=1, normalize=False)"
      ]
     },
     "execution_count": 134,
     "metadata": {},
     "output_type": "execute_result"
    }
   ],
   "source": [
    "from sklearn.linear_model import LinearRegression\n",
    "lr = LinearRegression()\n",
    "lr.fit(X, y)"
   ]
  },
  {
   "cell_type": "code",
   "execution_count": 140,
   "metadata": {},
   "outputs": [
    {
     "data": {
      "text/plain": [
       "[<matplotlib.lines.Line2D at 0x1a24d3c470>]"
      ]
     },
     "execution_count": 140,
     "metadata": {},
     "output_type": "execute_result"
    },
    {
     "data": {
      "image/png": "[encoded data removed]",
      "text/plain": [
       "<matplotlib.figure.Figure at 0x1a2343a128>"
      ]
     },
     "metadata": {},
     "output_type": "display_data"
    }
   ],
   "source": [
    "plt.scatter(X.flatten(), y.flatten(), s=3, c=\"black\")\n",
    "plt.plot(X.flatten(), lr.predict(X).flatten())"
   ]
  },
  {
   "cell_type": "markdown",
   "metadata": {},
   "source": [
    "접합이 잘 안되지"
   ]
  },
  {
   "cell_type": "markdown",
   "metadata": {},
   "source": [
    "### Use Polynomial"
   ]
  },
  {
   "cell_type": "code",
   "execution_count": 141,
   "metadata": {},
   "outputs": [
    {
     "data": {
      "text/plain": [
       "array([[1.00000000e+00, 0.00000000e+00, 0.00000000e+00],\n",
       "       [1.00000000e+00, 5.00500501e-03, 2.50500751e-05],\n",
       "       [1.00000000e+00, 1.00100100e-02, 1.00200300e-04],\n",
       "       [1.00000000e+00, 1.50150150e-02, 2.25450676e-04],\n",
       "       [1.00000000e+00, 2.00200200e-02, 4.00801202e-04],\n",
       "       [1.00000000e+00, 2.50250250e-02, 6.26251878e-04],\n",
       "       [1.00000000e+00, 3.00300300e-02, 9.01802704e-04],\n",
       "       [1.00000000e+00, 3.50350350e-02, 1.22745368e-03],\n",
       "       [1.00000000e+00, 4.00400400e-02, 1.60320481e-03],\n",
       "       [1.00000000e+00, 4.50450450e-02, 2.02905608e-03]])"
      ]
     },
     "execution_count": 141,
     "metadata": {},
     "output_type": "execute_result"
    }
   ],
   "source": [
    "from sklearn.preprocessing import PolynomialFeatures\n",
    "\n",
    "poly_features = PolynomialFeatures(degree=2)\n",
    "X_poly = poly_features.fit_transform(X)\n",
    "X_poly[:10]"
   ]
  },
  {
   "cell_type": "code",
   "execution_count": 143,
   "metadata": {},
   "outputs": [
    {
     "data": {
      "text/plain": [
       "LinearRegression(copy_X=True, fit_intercept=True, n_jobs=1, normalize=False)"
      ]
     },
     "execution_count": 143,
     "metadata": {},
     "output_type": "execute_result"
    }
   ],
   "source": [
    "lr = LinearRegression()\n",
    "lr.fit(X_poly, y)"
   ]
  },
  {
   "cell_type": "code",
   "execution_count": 145,
   "metadata": {},
   "outputs": [
    {
     "data": {
      "image/png": "[encoded data removed]",
      "text/plain": [
       "<matplotlib.figure.Figure at 0x1a2536c2b0>"
      ]
     },
     "metadata": {},
     "output_type": "display_data"
    }
   ],
   "source": [
    "plt.scatter(X.flatten(), y.flatten(), s=3, c='black')\n",
    "plt.plot(X.flatten(), lr.predict(X_poly).flatten())\n",
    "plt.show()"
   ]
  },
  {
   "cell_type": "code",
   "execution_count": 149,
   "metadata": {
    "collapsed": true,
    "scrolled": true
   },
   "outputs": [],
   "source": [
    "from sklearn.preprocessing import PolynomialFeatures\n",
    "\n",
    "poly_features = PolynomialFeatures(degree=13)\n",
    "X_poly = poly_features.fit_transform(X)"
   ]
  },
  {
   "cell_type": "code",
   "execution_count": 150,
   "metadata": {},
   "outputs": [
    {
     "data": {
      "text/plain": [
       "LinearRegression(copy_X=True, fit_intercept=True, n_jobs=1, normalize=False)"
      ]
     },
     "execution_count": 150,
     "metadata": {},
     "output_type": "execute_result"
    }
   ],
   "source": [
    "lr = LinearRegression()\n",
    "lr.fit(X_poly, y)"
   ]
  },
  {
   "cell_type": "code",
   "execution_count": 151,
   "metadata": {},
   "outputs": [
    {
     "data": {
      "image/png": "[encoded data removed]",
      "text/plain": [
       "<matplotlib.figure.Figure at 0x1a25939198>"
      ]
     },
     "metadata": {},
     "output_type": "display_data"
    }
   ],
   "source": [
    "plt.scatter(X.flatten(), y.flatten(), s=3, c='black')\n",
    "plt.plot(X.flatten(), lr.predict(X_poly).flatten())\n",
    "plt.show()"
   ]
  },
  {
   "cell_type": "markdown",
   "metadata": {},
   "source": [
    "## How to optimize?"
   ]
  },
  {
   "cell_type": "code",
   "execution_count": 177,
   "metadata": {
    "collapsed": true
   },
   "outputs": [],
   "source": [
    "poly_range = list((range(10, 50)))\n",
    "rmse_lr_list = []\n",
    "rmse_lasso_list = []\n",
    "rmse_ridge_list = []"
   ]
  },
  {
   "cell_type": "code",
   "execution_count": 178,
   "metadata": {
    "collapsed": true
   },
   "outputs": [],
   "source": [
    "def rmse(predictions, targets):\n",
    "    return np.sqrt(((predictions - targets) ** 2).mean())"
   ]
  },
  {
   "cell_type": "code",
   "execution_count": 179,
   "metadata": {
    "collapsed": true
   },
   "outputs": [],
   "source": [
    "from sklearn.linear_model import Lasso\n",
    "from sklearn.linear_model import Ridge"
   ]
  },
  {
   "cell_type": "code",
   "execution_count": 180,
   "metadata": {},
   "outputs": [
    {
     "name": "stderr",
     "output_type": "stream",
     "text": [
      "/Users/sanghyuk/anaconda/lib/python3.6/site-packages/sklearn/linear_model/coordinate_descent.py:491: ConvergenceWarning: Objective did not converge. You might want to increase the number of iterations. Fitting data with very small alpha may cause precision problems.\n",
      "  ConvergenceWarning)\n",
      "/Users/sanghyuk/anaconda/lib/python3.6/site-packages/sklearn/linear_model/ridge.py:112: LinAlgWarning: scipy.linalg.solve\n",
      "Ill-conditioned matrix detected. Result is not guaranteed to be accurate.\n",
      "Reciprocal condition number9.005235e-18\n",
      "  overwrite_a=True).T\n",
      "/Users/sanghyuk/anaconda/lib/python3.6/site-packages/sklearn/linear_model/ridge.py:112: LinAlgWarning: scipy.linalg.solve\n",
      "Ill-conditioned matrix detected. Result is not guaranteed to be accurate.\n",
      "Reciprocal condition number3.859594e-19\n",
      "  overwrite_a=True).T\n",
      "/Users/sanghyuk/anaconda/lib/python3.6/site-packages/sklearn/linear_model/ridge.py:112: LinAlgWarning: scipy.linalg.solve\n",
      "Ill-conditioned matrix detected. Result is not guaranteed to be accurate.\n",
      "Reciprocal condition number1.646912e-20\n",
      "  overwrite_a=True).T\n",
      "/Users/sanghyuk/anaconda/lib/python3.6/site-packages/sklearn/linear_model/ridge.py:112: LinAlgWarning: scipy.linalg.solve\n",
      "Ill-conditioned matrix detected. Result is not guaranteed to be accurate.\n",
      "Reciprocal condition number6.999990e-22\n",
      "  overwrite_a=True).T\n",
      "/Users/sanghyuk/anaconda/lib/python3.6/site-packages/sklearn/linear_model/ridge.py:112: LinAlgWarning: scipy.linalg.solve\n",
      "Ill-conditioned matrix detected. Result is not guaranteed to be accurate.\n",
      "Reciprocal condition number2.964876e-23\n",
      "  overwrite_a=True).T\n",
      "/Users/sanghyuk/anaconda/lib/python3.6/site-packages/sklearn/linear_model/ridge.py:112: LinAlgWarning: scipy.linalg.solve\n",
      "Ill-conditioned matrix detected. Result is not guaranteed to be accurate.\n",
      "Reciprocal condition number1.251858e-24\n",
      "  overwrite_a=True).T\n"
     ]
    }
   ],
   "source": [
    "\n",
    "\n",
    "for poly_value in poly_range:\n",
    "    poly_features = PolynomialFeatures(degree=poly_value)\n",
    "    X_poly = poly_features.fit_transform(X)\n",
    "    lr = LinearRegression()\n",
    "    lr.fit(X_poly,y)\n",
    "    \n",
    "    rmse_lr_list.append(rmse(lr.predict(X_poly), y))\n",
    "\n",
    "    lasso = Lasso()\n",
    "    lasso.fit(X_poly,y)\n",
    "    rmse_lasso_list.append(rmse(lasso.predict(X_poly), y))\n",
    "    \n",
    "    ridge = Ridge()\n",
    "    ridge.fit(X_poly,y)\n",
    "    rmse_ridge_list.append(rmse(ridge.predict(X_poly), y))"
   ]
  },
  {
   "cell_type": "code",
   "execution_count": 181,
   "metadata": {},
   "outputs": [
    {
     "data": {
      "text/plain": [
       "(40, 40, 40, 40)"
      ]
     },
     "execution_count": 181,
     "metadata": {},
     "output_type": "execute_result"
    }
   ],
   "source": [
    "len(poly_range), len(rmse_lr_list), len(rmse_lasso_list), len(rmse_ridge_list)"
   ]
  },
  {
   "cell_type": "code",
   "execution_count": 182,
   "metadata": {
    "collapsed": true
   },
   "outputs": [
    {
     "data": {
      "text/html": [
       "<div>\n",
       "<style>\n",
       "    .dataframe thead tr:only-child th {\n",
       "        text-align: right;\n",
       "    }\n",
       "\n",
       "    .dataframe thead th {\n",
       "        text-align: left;\n",
       "    }\n",
       "\n",
       "    .dataframe tbody tr th {\n",
       "        vertical-align: top;\n",
       "    }\n",
       "</style>\n",
       "<table border=\"1\" class=\"dataframe\">\n",
       "  <thead>\n",
       "    <tr style=\"text-align: right;\">\n",
       "      <th></th>\n",
       "      <th>lasso_rmse</th>\n",
       "      <th>lr_rmse</th>\n",
       "      <th>ridge_rmse</th>\n",
       "    </tr>\n",
       "    <tr>\n",
       "      <th>poly_range</th>\n",
       "      <th></th>\n",
       "      <th></th>\n",
       "      <th></th>\n",
       "    </tr>\n",
       "  </thead>\n",
       "  <tbody>\n",
       "    <tr>\n",
       "      <th>10</th>\n",
       "      <td>2.192131</td>\n",
       "      <td>1.881022</td>\n",
       "      <td>1.908958</td>\n",
       "    </tr>\n",
       "    <tr>\n",
       "      <th>11</th>\n",
       "      <td>2.200554</td>\n",
       "      <td>1.873386</td>\n",
       "      <td>1.888186</td>\n",
       "    </tr>\n",
       "    <tr>\n",
       "      <th>12</th>\n",
       "      <td>2.205562</td>\n",
       "      <td>1.621200</td>\n",
       "      <td>1.887531</td>\n",
       "    </tr>\n",
       "    <tr>\n",
       "      <th>13</th>\n",
       "      <td>2.208125</td>\n",
       "      <td>1.353673</td>\n",
       "      <td>1.863321</td>\n",
       "    </tr>\n",
       "    <tr>\n",
       "      <th>14</th>\n",
       "      <td>2.209545</td>\n",
       "      <td>1.337771</td>\n",
       "      <td>1.688016</td>\n",
       "    </tr>\n",
       "    <tr>\n",
       "      <th>15</th>\n",
       "      <td>2.210272</td>\n",
       "      <td>0.935370</td>\n",
       "      <td>1.519176</td>\n",
       "    </tr>\n",
       "    <tr>\n",
       "      <th>16</th>\n",
       "      <td>2.210530</td>\n",
       "      <td>0.736900</td>\n",
       "      <td>1.484677</td>\n",
       "    </tr>\n",
       "    <tr>\n",
       "      <th>17</th>\n",
       "      <td>2.210454</td>\n",
       "      <td>0.703981</td>\n",
       "      <td>1.293005</td>\n",
       "    </tr>\n",
       "    <tr>\n",
       "      <th>18</th>\n",
       "      <td>2.210148</td>\n",
       "      <td>0.727113</td>\n",
       "      <td>0.894913</td>\n",
       "    </tr>\n",
       "    <tr>\n",
       "      <th>19</th>\n",
       "      <td>2.209717</td>\n",
       "      <td>0.682926</td>\n",
       "      <td>0.779274</td>\n",
       "    </tr>\n",
       "    <tr>\n",
       "      <th>20</th>\n",
       "      <td>2.209268</td>\n",
       "      <td>0.671407</td>\n",
       "      <td>0.769410</td>\n",
       "    </tr>\n",
       "    <tr>\n",
       "      <th>21</th>\n",
       "      <td>2.208918</td>\n",
       "      <td>0.649221</td>\n",
       "      <td>0.632613</td>\n",
       "    </tr>\n",
       "    <tr>\n",
       "      <th>22</th>\n",
       "      <td>2.208778</td>\n",
       "      <td>0.559166</td>\n",
       "      <td>0.535131</td>\n",
       "    </tr>\n",
       "    <tr>\n",
       "      <th>23</th>\n",
       "      <td>2.208957</td>\n",
       "      <td>0.540041</td>\n",
       "      <td>0.532549</td>\n",
       "    </tr>\n",
       "    <tr>\n",
       "      <th>24</th>\n",
       "      <td>2.209543</td>\n",
       "      <td>0.610481</td>\n",
       "      <td>0.551913</td>\n",
       "    </tr>\n",
       "    <tr>\n",
       "      <th>25</th>\n",
       "      <td>2.210601</td>\n",
       "      <td>0.696096</td>\n",
       "      <td>0.670455</td>\n",
       "    </tr>\n",
       "    <tr>\n",
       "      <th>26</th>\n",
       "      <td>2.212161</td>\n",
       "      <td>0.802508</td>\n",
       "      <td>0.660522</td>\n",
       "    </tr>\n",
       "    <tr>\n",
       "      <th>27</th>\n",
       "      <td>2.214227</td>\n",
       "      <td>0.976554</td>\n",
       "      <td>0.673561</td>\n",
       "    </tr>\n",
       "    <tr>\n",
       "      <th>28</th>\n",
       "      <td>2.216775</td>\n",
       "      <td>1.110357</td>\n",
       "      <td>0.989499</td>\n",
       "    </tr>\n",
       "    <tr>\n",
       "      <th>29</th>\n",
       "      <td>2.219758</td>\n",
       "      <td>1.177165</td>\n",
       "      <td>1.021588</td>\n",
       "    </tr>\n",
       "    <tr>\n",
       "      <th>30</th>\n",
       "      <td>2.223113</td>\n",
       "      <td>1.177345</td>\n",
       "      <td>1.083738</td>\n",
       "    </tr>\n",
       "    <tr>\n",
       "      <th>31</th>\n",
       "      <td>2.226775</td>\n",
       "      <td>1.262697</td>\n",
       "      <td>1.101956</td>\n",
       "    </tr>\n",
       "    <tr>\n",
       "      <th>32</th>\n",
       "      <td>2.230672</td>\n",
       "      <td>1.313648</td>\n",
       "      <td>1.636356</td>\n",
       "    </tr>\n",
       "    <tr>\n",
       "      <th>33</th>\n",
       "      <td>2.234739</td>\n",
       "      <td>1.345033</td>\n",
       "      <td>1.196985</td>\n",
       "    </tr>\n",
       "    <tr>\n",
       "      <th>34</th>\n",
       "      <td>2.238912</td>\n",
       "      <td>1.351844</td>\n",
       "      <td>1.101042</td>\n",
       "    </tr>\n",
       "    <tr>\n",
       "      <th>35</th>\n",
       "      <td>2.243140</td>\n",
       "      <td>1.337763</td>\n",
       "      <td>3.061213</td>\n",
       "    </tr>\n",
       "    <tr>\n",
       "      <th>36</th>\n",
       "      <td>2.248644</td>\n",
       "      <td>1.311448</td>\n",
       "      <td>2.743096</td>\n",
       "    </tr>\n",
       "    <tr>\n",
       "      <th>37</th>\n",
       "      <td>2.254518</td>\n",
       "      <td>1.283534</td>\n",
       "      <td>1.251635</td>\n",
       "    </tr>\n",
       "    <tr>\n",
       "      <th>38</th>\n",
       "      <td>2.259889</td>\n",
       "      <td>1.264767</td>\n",
       "      <td>1.364232</td>\n",
       "    </tr>\n",
       "    <tr>\n",
       "      <th>39</th>\n",
       "      <td>2.264860</td>\n",
       "      <td>1.258290</td>\n",
       "      <td>1.307604</td>\n",
       "    </tr>\n",
       "    <tr>\n",
       "      <th>40</th>\n",
       "      <td>2.269463</td>\n",
       "      <td>1.268737</td>\n",
       "      <td>1.338470</td>\n",
       "    </tr>\n",
       "    <tr>\n",
       "      <th>41</th>\n",
       "      <td>2.273720</td>\n",
       "      <td>1.301535</td>\n",
       "      <td>1.295393</td>\n",
       "    </tr>\n",
       "    <tr>\n",
       "      <th>42</th>\n",
       "      <td>2.277655</td>\n",
       "      <td>1.520071</td>\n",
       "      <td>1.416662</td>\n",
       "    </tr>\n",
       "    <tr>\n",
       "      <th>43</th>\n",
       "      <td>2.281286</td>\n",
       "      <td>1.508867</td>\n",
       "      <td>1.358199</td>\n",
       "    </tr>\n",
       "    <tr>\n",
       "      <th>44</th>\n",
       "      <td>2.284632</td>\n",
       "      <td>1.501539</td>\n",
       "      <td>1.472061</td>\n",
       "    </tr>\n",
       "    <tr>\n",
       "      <th>45</th>\n",
       "      <td>2.287708</td>\n",
       "      <td>1.481111</td>\n",
       "      <td>1.465666</td>\n",
       "    </tr>\n",
       "    <tr>\n",
       "      <th>46</th>\n",
       "      <td>2.290527</td>\n",
       "      <td>1.499331</td>\n",
       "      <td>1.486309</td>\n",
       "    </tr>\n",
       "    <tr>\n",
       "      <th>47</th>\n",
       "      <td>2.293099</td>\n",
       "      <td>1.500469</td>\n",
       "      <td>1.506147</td>\n",
       "    </tr>\n",
       "    <tr>\n",
       "      <th>48</th>\n",
       "      <td>2.295433</td>\n",
       "      <td>1.544266</td>\n",
       "      <td>1.615938</td>\n",
       "    </tr>\n",
       "    <tr>\n",
       "      <th>49</th>\n",
       "      <td>2.297541</td>\n",
       "      <td>1.464486</td>\n",
       "      <td>1.533074</td>\n",
       "    </tr>\n",
       "  </tbody>\n",
       "</table>\n",
       "</div>"
      ],
      "text/plain": [
       "            lasso_rmse   lr_rmse  ridge_rmse\n",
       "poly_range                                  \n",
       "10            2.192131  1.881022    1.908958\n",
       "11            2.200554  1.873386    1.888186\n",
       "12            2.205562  1.621200    1.887531\n",
       "13            2.208125  1.353673    1.863321\n",
       "14            2.209545  1.337771    1.688016\n",
       "15            2.210272  0.935370    1.519176\n",
       "16            2.210530  0.736900    1.484677\n",
       "17            2.210454  0.703981    1.293005\n",
       "18            2.210148  0.727113    0.894913\n",
       "19            2.209717  0.682926    0.779274\n",
       "20            2.209268  0.671407    0.769410\n",
       "21            2.208918  0.649221    0.632613\n",
       "22            2.208778  0.559166    0.535131\n",
       "23            2.208957  0.540041    0.532549\n",
       "24            2.209543  0.610481    0.551913\n",
       "25            2.210601  0.696096    0.670455\n",
       "26            2.212161  0.802508    0.660522\n",
       "27            2.214227  0.976554    0.673561\n",
       "28            2.216775  1.110357    0.989499\n",
       "29            2.219758  1.177165    1.021588\n",
       "30            2.223113  1.177345    1.083738\n",
       "31            2.226775  1.262697    1.101956\n",
       "32            2.230672  1.313648    1.636356\n",
       "33            2.234739  1.345033    1.196985\n",
       "34            2.238912  1.351844    1.101042\n",
       "35            2.243140  1.337763    3.061213\n",
       "36            2.248644  1.311448    2.743096\n",
       "37            2.254518  1.283534    1.251635\n",
       "38            2.259889  1.264767    1.364232\n",
       "39            2.264860  1.258290    1.307604\n",
       "40            2.269463  1.268737    1.338470\n",
       "41            2.273720  1.301535    1.295393\n",
       "42            2.277655  1.520071    1.416662\n",
       "43            2.281286  1.508867    1.358199\n",
       "44            2.284632  1.501539    1.472061\n",
       "45            2.287708  1.481111    1.465666\n",
       "46            2.290527  1.499331    1.486309\n",
       "47            2.293099  1.500469    1.506147\n",
       "48            2.295433  1.544266    1.615938\n",
       "49            2.297541  1.464486    1.533074"
      ]
     },
     "execution_count": 182,
     "metadata": {},
     "output_type": "execute_result"
    }
   ],
   "source": [
    "import pandas as pd\n",
    "from pandas import DataFrame\n",
    "data = {\"poly_range\":poly_range, \"lr_rmse\":rmse_lr_list, \n",
    "        \"lasso_rmse\":rmse_lasso_list,\"ridge_rmse\":rmse_ridge_list}\n",
    "df = DataFrame(data).set_index(\"poly_range\")\n",
    "df"
   ]
  },
  {
   "cell_type": "code",
   "execution_count": 183,
   "metadata": {},
   "outputs": [
    {
     "data": {
      "image/png": "[encoded data removed]",
      "text/plain": [
       "<matplotlib.figure.Figure at 0x1a27ac7ba8>"
      ]
     },
     "metadata": {},
     "output_type": "display_data"
    }
   ],
   "source": [
    "plt.plot(poly_range, df[\"ridge_rmse\"], label=\"ridge\")\n",
    "plt.plot(poly_range, df[\"lr_rmse\"], label=\"lr\")\n",
    "plt.plot(poly_range, df[\"lasso_rmse\"], label=\"lasso\")\n",
    "plt.legend()\n",
    "plt.show()"
   ]
  },
  {
   "cell_type": "code",
   "execution_count": 184,
   "metadata": {},
   "outputs": [
    {
     "data": {
      "text/plain": [
       "lasso_rmse    2.192131\n",
       "lr_rmse       0.540041\n",
       "ridge_rmse    0.532549\n",
       "dtype: float64"
      ]
     },
     "execution_count": 184,
     "metadata": {},
     "output_type": "execute_result"
    }
   ],
   "source": [
    "df.min()"
   ]
  },
  {
   "cell_type": "code",
   "execution_count": 185,
   "metadata": {},
   "outputs": [
    {
     "data": {
      "text/plain": [
       "poly_range\n",
       "23    0.532549\n",
       "22    0.535131\n",
       "24    0.551913\n",
       "21    0.632613\n",
       "26    0.660522\n",
       "Name: ridge_rmse, dtype: float64"
      ]
     },
     "execution_count": 185,
     "metadata": {},
     "output_type": "execute_result"
    }
   ],
   "source": [
    "df[\"ridge_rmse\"].sort_values().head()\n",
    "#degree 22일때가 제일 작네"
   ]
  },
  {
   "cell_type": "code",
   "execution_count": 188,
   "metadata": {},
   "outputs": [
    {
     "data": {
      "text/plain": [
       "Ridge(alpha=1.0, copy_X=True, fit_intercept=False, max_iter=None,\n",
       "   normalize=False, random_state=None, solver='auto', tol=0.001)"
      ]
     },
     "execution_count": 188,
     "metadata": {},
     "output_type": "execute_result"
    }
   ],
   "source": [
    "poly_features = PolynomialFeatures(degree=22)\n",
    "X_poly = poly_features.fit_transform(X)\n",
    "ridge = Ridge(fit_intercept=False)\n",
    "#이미 앞에서 들어가 있지\n",
    "ridge.fit(X_poly,y)"
   ]
  },
  {
   "cell_type": "code",
   "execution_count": 189,
   "metadata": {},
   "outputs": [
    {
     "data": {
      "image/png": "[encoded data removed]",
      "text/plain": [
       "<matplotlib.figure.Figure at 0x1a2551a240>"
      ]
     },
     "metadata": {},
     "output_type": "display_data"
    }
   ],
   "source": [
    "f_x, f_y = f(1000)\n",
    "plt.plot(f_x, f_y)\n",
    "plt.scatter(X.flatten(), y.flatten(), s=3, c=\"black\")\n",
    "plt.plot(X.flatten(), ridge.predict(X_poly).flatten())\n",
    "plt.show()"
   ]
  },
  {
   "cell_type": "markdown",
   "metadata": {},
   "source": [
    "이렇게 optimization을 하는 거야. <br>\n",
    "결국 실험을 하는 거야. <br>"
   ]
  },
  {
   "cell_type": "markdown",
   "metadata": {},
   "source": [
    "## Sampling Method"
   ]
  },
  {
   "cell_type": "code",
   "execution_count": 190,
   "metadata": {
    "collapsed": true
   },
   "outputs": [],
   "source": [
    "import numpy as np\n",
    "from sklearn.model_selection import train_test_split"
   ]
  },
  {
   "cell_type": "code",
   "execution_count": 197,
   "metadata": {
    "collapsed": true
   },
   "outputs": [],
   "source": [
    "X, y = np.arange(10).reshape((5, 2)), range(5)"
   ]
  },
  {
   "cell_type": "code",
   "execution_count": 199,
   "metadata": {
    "collapsed": true
   },
   "outputs": [],
   "source": [
    "X_train, X_test, y_train, y_test = train_test_split(\n",
    "    X, y, test_size=0.33, random_state=42)"
   ]
  },
  {
   "cell_type": "markdown",
   "metadata": {},
   "source": [
    "#### K-fold Cross Validation"
   ]
  },
  {
   "cell_type": "code",
   "execution_count": 206,
   "metadata": {
    "collapsed": true
   },
   "outputs": [],
   "source": [
    "from sklearn import datasets\n",
    "boston = datasets.load_boston()"
   ]
  },
  {
   "cell_type": "code",
   "execution_count": 13,
   "metadata": {
    "collapsed": true
   },
   "outputs": [],
   "source": [
    "X = boston.data\n",
    "y = boston.target"
   ]
  },
  {
   "cell_type": "code",
   "execution_count": 210,
   "metadata": {
    "collapsed": true
   },
   "outputs": [],
   "source": [
    "from sklearn.model_selection import KFold"
   ]
  },
  {
   "cell_type": "code",
   "execution_count": 211,
   "metadata": {
    "collapsed": true
   },
   "outputs": [],
   "source": [
    "kf = KFold(n_splits = 10, shuffle = True)"
   ]
  },
  {
   "cell_type": "code",
   "execution_count": 213,
   "metadata": {
    "collapsed": true
   },
   "outputs": [
    {
     "name": "stdout",
     "output_type": "stream",
     "text": [
      "TRAIN -  [ 1  2  3  4  5  6  7  8  9 10]\n",
      "TRAIN LEN-  455\n",
      "TEST -  [ 0 11 15 24 26 36 39 41 43 79]\n",
      "TEST LEN-  51\n",
      "TRAIN -  [ 0  1  2  3  4  5  6  7  9 10]\n",
      "TRAIN LEN-  455\n",
      "TEST -  [ 8 14 23 28 31 60 75 85 87 94]\n",
      "TEST LEN-  51\n",
      "TRAIN -  [ 0  1  3  4  5  6  7  8  9 10]\n",
      "TRAIN LEN-  455\n",
      "TEST -  [ 2 20 21 22 32 54 59 69 82 90]\n",
      "TEST LEN-  51\n",
      "TRAIN -  [ 0  1  2  4  5  6  7  8  9 10]\n",
      "TRAIN LEN-  455\n",
      "TEST -  [ 3 27 33 40 44 47 49 73 78 95]\n",
      "TEST LEN-  51\n",
      "TRAIN -  [ 0  1  2  3  5  6  7  8  9 10]\n",
      "TRAIN LEN-  455\n",
      "TEST -  [  4  12  56  61  65  74 104 108 120 127]\n",
      "TEST LEN-  51\n",
      "TRAIN -  [ 0  1  2  3  4  5  6  8 10 11]\n",
      "TRAIN LEN-  455\n",
      "TEST -  [ 7  9 17 18 30 62 67 70 72 80]\n",
      "TEST LEN-  51\n",
      "TRAIN -  [ 0  2  3  4  5  6  7  8  9 11]\n",
      "TRAIN LEN-  456\n",
      "TEST -  [ 1 10 13 38 42 46 52 63 68 83]\n",
      "TEST LEN-  50\n",
      "TRAIN -  [ 0  1  2  3  4  5  7  8  9 10]\n",
      "TRAIN LEN-  456\n",
      "TEST -  [  6  16  45  50  66  76  91 113 116 117]\n",
      "TEST LEN-  50\n",
      "TRAIN -  [0 1 2 3 4 5 6 7 8 9]\n",
      "TRAIN LEN-  456\n",
      "TEST -  [19 25 35 37 51 53 55 57 64 77]\n",
      "TEST LEN-  50\n",
      "TRAIN -  [ 0  1  2  3  4  6  7  8  9 10]\n",
      "TRAIN LEN-  456\n",
      "TEST -  [  5  29  34  48  58  71  99 114 128 143]\n",
      "TEST LEN-  50\n"
     ]
    }
   ],
   "source": [
    "for train_index, test_index in kf.split(X):\n",
    "    print(\"TRAIN - \", train_index[:10] )\n",
    "    print(\"TRAIN LEN- \", len(train_index) )\n",
    "    print(\"TEST - \", test_index[:10] )  \n",
    "    print(\"TEST LEN- \", len(test_index) )  "
   ]
  },
  {
   "cell_type": "markdown",
   "metadata": {},
   "source": [
    "모델별로 real test "
   ]
  },
  {
   "cell_type": "code",
   "execution_count": 214,
   "metadata": {
    "collapsed": true
   },
   "outputs": [],
   "source": [
    "from sklearn.linear_model import Lasso, Ridge\n",
    "from sklearn.metrics import mean_squared_error"
   ]
  },
  {
   "cell_type": "code",
   "execution_count": 222,
   "metadata": {
    "collapsed": true
   },
   "outputs": [],
   "source": [
    "kf = KFold(n_splits = 10)\n",
    "lasso_regressor = Lasso()\n",
    "ridge_regressor = Ridge()\n",
    "\n",
    "lasso_mse = []\n",
    "ridge_mse = []\n",
    "\n",
    "for train_index, test_index in kf.split(X):\n",
    "    lasso_regressor.fit(X[train_index], y[train_index])\n",
    "    ridge_regressor.fit(X[train_index], y[train_index])    \n",
    "    \n",
    "    lasso_mse.append(mean_squared_error(y[test_index], lasso_regressor.predict(X[test_index])))\n",
    "    ridge_mse.append(mean_squared_error(y[test_index], ridge_regressor.predict(X[test_index])))"
   ]
  },
  {
   "cell_type": "code",
   "execution_count": 224,
   "metadata": {},
   "outputs": [
    {
     "data": {
      "text/plain": [
       "(34.468098837801115, 34.13523528291733)"
      ]
     },
     "execution_count": 224,
     "metadata": {},
     "output_type": "execute_result"
    }
   ],
   "source": [
    "sum(lasso_mse)/10, sum(ridge_mse)/10\n",
    "#거의 똑같네"
   ]
  },
  {
   "cell_type": "markdown",
   "metadata": {},
   "source": [
    "Cross Validation Score를 사용하면 더 간단하게 쓸 수 있음. "
   ]
  },
  {
   "cell_type": "code",
   "execution_count": 225,
   "metadata": {
    "collapsed": true
   },
   "outputs": [],
   "source": [
    "from sklearn.model_selection import cross_val_score\n",
    "import numpy as np"
   ]
  },
  {
   "cell_type": "code",
   "execution_count": 233,
   "metadata": {
    "collapsed": true
   },
   "outputs": [],
   "source": [
    "lasso_regressor = Lasso(warm_start=False)\n",
    "ridge_regressor = Ridge()\n",
    "\n",
    "#cv는 kfold 몇번 나눌껀지를 의미함. \n",
    "#위에서 길게 쓴걸 한방에 해주는거임\n",
    "lasso_scores = cross_val_score(lasso_regressor, X, y, cv=10, scoring=\"neg_mean_squared_error\")\n",
    "ridge_scores = cross_val_score(ridge_regressor, X, y, cv=10, scoring=\"neg_mean_squared_error\")\n",
    "#scoring -> sklearn metrics검색해서 뭐 쓸지 찾으면 되는겨"
   ]
  },
  {
   "cell_type": "code",
   "execution_count": 234,
   "metadata": {},
   "outputs": [
    {
     "data": {
      "text/plain": [
       "array([  -9.33181837,  -12.62299748,  -10.81592992,  -36.59385518,\n",
       "        -29.65339219,  -18.64279355,   -9.47551714, -168.68768902,\n",
       "        -34.08110182,  -11.44725816])"
      ]
     },
     "execution_count": 234,
     "metadata": {},
     "output_type": "execute_result"
    }
   ],
   "source": [
    "lasso_scores\n",
    "ridge_scores\n",
    "# 여기에는 10번 돈 각각의 점수들이 들어있지"
   ]
  },
  {
   "cell_type": "code",
   "execution_count": 232,
   "metadata": {},
   "outputs": [
    {
     "data": {
      "text/plain": [
       "(-34.468098837801115, -34.13523528291733)"
      ]
     },
     "execution_count": 232,
     "metadata": {},
     "output_type": "execute_result"
    }
   ],
   "source": [
    "np.mean(lasso_scores), np.mean(ridge_scores)"
   ]
  },
  {
   "cell_type": "markdown",
   "metadata": {},
   "source": [
    "#### Cross Validate이라는 것도 있음. \n",
    "fit time, score time, test_score, train_score이런게 다같이 나옴<br>\n",
    "여려가지 지표 볼 수 있어서 좋음"
   ]
  },
  {
   "cell_type": "code",
   "execution_count": 235,
   "metadata": {
    "collapsed": true
   },
   "outputs": [],
   "source": [
    "from sklearn.model_selection import cross_validate\n",
    "import numpy as np"
   ]
  },
  {
   "cell_type": "code",
   "execution_count": 236,
   "metadata": {},
   "outputs": [
    {
     "name": "stderr",
     "output_type": "stream",
     "text": [
      "/Users/sanghyuk/anaconda/lib/python3.6/site-packages/sklearn/utils/deprecation.py:122: FutureWarning: You are accessing a training score ('train_score'), which will not be available by default any more in 0.21. If you need training scores, please set return_train_score=True\n",
      "  warnings.warn(*warn_args, **warn_kwargs)\n"
     ]
    },
    {
     "data": {
      "text/plain": [
       "{'fit_time': array([0.00050402, 0.00043917, 0.00041795, 0.00041771, 0.00041795,\n",
       "        0.00042009, 0.00045013, 0.00046206, 0.00040483, 0.00040102]),\n",
       " 'score_time': array([0.0001421 , 0.0001421 , 0.00013804, 0.00013614, 0.00013614,\n",
       "        0.00013304, 0.0001328 , 0.00013804, 0.00013328, 0.00013208]),\n",
       " 'test_score': array([  -9.33181837,  -12.62299748,  -10.81592992,  -36.59385518,\n",
       "         -29.65339219,  -18.64279355,   -9.47551714, -168.68768902,\n",
       "         -34.08110182,  -11.44725816]),\n",
       " 'train_score': array([-23.53847681, -23.11763474, -23.49752741, -20.91415447,\n",
       "        -21.56701895, -22.57910692, -23.52326657, -12.03906753,\n",
       "        -21.69281352, -23.35978544])}"
      ]
     },
     "execution_count": 236,
     "metadata": {},
     "output_type": "execute_result"
    }
   ],
   "source": [
    "lasso_regressor = Lasso()\n",
    "ridge_regressor = Ridge()\n",
    "\n",
    "lasso_scores = cross_validate(lasso_regressor, X, y, cv = 10, scoring='neg_mean_squared_error')\n",
    "ridge_scores = cross_validate(ridge_regressor, X, y, cv = 10, scoring='neg_mean_squared_error')\n",
    "ridge_scores\n",
    "\n"
   ]
  },
  {
   "cell_type": "markdown",
   "metadata": {},
   "source": [
    "피팅 되는데 얼마나 걸렸냐. <br>\n",
    "test, train일때 각각 점수 얼만지<br>\n",
    "한번에 여러개의 지표도 가능함. "
   ]
  },
  {
   "cell_type": "code",
   "execution_count": 237,
   "metadata": {},
   "outputs": [
    {
     "name": "stderr",
     "output_type": "stream",
     "text": [
      "/Users/sanghyuk/anaconda/lib/python3.6/site-packages/sklearn/utils/deprecation.py:122: FutureWarning: You are accessing a training score ('train_neg_mean_squared_error'), which will not be available by default any more in 0.21. If you need training scores, please set return_train_score=True\n",
      "  warnings.warn(*warn_args, **warn_kwargs)\n",
      "/Users/sanghyuk/anaconda/lib/python3.6/site-packages/sklearn/utils/deprecation.py:122: FutureWarning: You are accessing a training score ('train_r2'), which will not be available by default any more in 0.21. If you need training scores, please set return_train_score=True\n",
      "  warnings.warn(*warn_args, **warn_kwargs)\n"
     ]
    },
    {
     "data": {
      "text/plain": [
       "{'fit_time': array([0.00054932, 0.00047088, 0.00044703, 0.00045109, 0.00044417,\n",
       "        0.00046921, 0.00043917, 0.00044608, 0.00050282, 0.00055289]),\n",
       " 'score_time': array([0.00032091, 0.00031304, 0.00032473, 0.00030422, 0.0003171 ,\n",
       "        0.00031185, 0.00031471, 0.00030684, 0.0003221 , 0.00030994]),\n",
       " 'test_neg_mean_squared_error': array([  -9.33181837,  -12.62299748,  -10.81592992,  -36.59385518,\n",
       "         -29.65339219,  -18.64279355,   -9.47551714, -168.68768902,\n",
       "         -34.08110182,  -11.44725816]),\n",
       " 'train_neg_mean_squared_error': array([-23.53847681, -23.11763474, -23.49752741, -20.91415447,\n",
       "        -21.56701895, -22.57910692, -23.52326657, -12.03906753,\n",
       "        -21.69281352, -23.35978544]),\n",
       " 'test_r2': array([ 0.73247443,  0.5299787 , -0.54190456,  0.62700301,  0.57932091,\n",
       "         0.7522577 ,  0.40776893, -0.13132157, -0.80829843,  0.39313371]),\n",
       " 'train_r2': array([0.73685338, 0.74448731, 0.74072829, 0.71527361, 0.7389207 ,\n",
       "        0.70146591, 0.74393567, 0.83767932, 0.73521702, 0.74022024])}"
      ]
     },
     "execution_count": 237,
     "metadata": {},
     "output_type": "execute_result"
    }
   ],
   "source": [
    "lasso_regressor = Lasso()\n",
    "ridge_regressor = Ridge()\n",
    "\n",
    "scoring = ['neg_mean_squared_error', 'r2']\n",
    "lasso_scores = cross_validate(lasso_regressor, X, y, cv = 10, scoring=scoring)\n",
    "ridge_scores = cross_validate(ridge_regressor, X, y, cv = 10, scoring=scoring)\n",
    "ridge_scores\n"
   ]
  },
  {
   "cell_type": "markdown",
   "metadata": {},
   "source": [
    "## Leave One Out(LOO)"
   ]
  },
  {
   "cell_type": "code",
   "execution_count": 238,
   "metadata": {
    "collapsed": true
   },
   "outputs": [],
   "source": [
    "from sklearn.model_selection import LeaveOneOut"
   ]
  },
  {
   "cell_type": "code",
   "execution_count": 239,
   "metadata": {},
   "outputs": [
    {
     "name": "stdout",
     "output_type": "stream",
     "text": [
      "[1 2 3] [0]\n",
      "[0 2 3] [1]\n",
      "[0 1 3] [2]\n",
      "[0 1 2] [3]\n"
     ]
    }
   ],
   "source": [
    "test = [1, 2, 3, 4]\n",
    "loo = LeaveOneOut()\n",
    "for train, test in loo.split(test):\n",
    "    print(\"%s %s\" % (train, test))"
   ]
  },
  {
   "cell_type": "code",
   "execution_count": 241,
   "metadata": {
    "collapsed": true
   },
   "outputs": [],
   "source": [
    "lasso_scores = cross_val_score(lasso_regressor, X, y, cv = loo, scoring=\"neg_mean_squared_error\")\n",
    "\n",
    "#cv 에 LOO라고 치면 됨. "
   ]
  },
  {
   "cell_type": "markdown",
   "metadata": {
    "collapsed": true
   },
   "source": [
    "## Validation set for Parameter turning"
   ]
  },
  {
   "cell_type": "code",
   "execution_count": 62,
   "metadata": {
    "collapsed": true
   },
   "outputs": [],
   "source": [
    "from sklearn import datasets\n",
    "boston = datasets.load_boston()\n",
    "X = boston.data\n",
    "y = boston.target"
   ]
  },
  {
   "cell_type": "code",
   "execution_count": 63,
   "metadata": {},
   "outputs": [],
   "source": [
    "def rmse(predictions, targets):\n",
    "    return np.sqrt(((predictions - targets) ** 2).mean())"
   ]
  },
  {
   "cell_type": "code",
   "execution_count": 64,
   "metadata": {},
   "outputs": [],
   "source": [
    "from sklearn.linear_model import SGDRegressor\n",
    "from sklearn.preprocessing import StandardScaler\n",
    "#It is Boston Data\n",
    "std = StandardScaler()\n",
    "std.fit(X)\n",
    "X_scaled = std.transform(X)\n",
    "\n",
    "eta0 = 0.001 \n",
    "max_iter = 10"
   ]
  },
  {
   "cell_type": "code",
   "execution_count": 67,
   "metadata": {},
   "outputs": [],
   "source": [
    "from sklearn.model_selection import train_test_split\n",
    "\n",
    "\n",
    "X_train_dataset, X_test, y_train_dataset, y_test = train_test_split(\n",
    "            X_scaled,y, test_size=0.2, random_state=42)\n",
    "\n",
    "sgd_regressor = SGDRegressor(\n",
    "    eta0=eta0, max_iter=max_iter, warm_start=True, learning_rate=\"constant\")\n",
    "\n",
    "rmse_val_score = []\n",
    "rmse_train_score = []\n",
    "model_list = []\n",
    "\n",
    "X_train, X_val, y_train, y_val = train_test_split(\n",
    "    X_train_dataset,y_train_dataset, test_size=0.2, random_state=42)\n",
    "sgd_regressor.fit(X_train,y_train)\n",
    "\n",
    "# kf = KFold(n_splits=100, shuffle=True)\n",
    "# for train_index, test_index in kf.split(X_train_dataset):\n",
    "\n",
    "for i in range(300):\n",
    "\n",
    "    y_pred = sgd_regressor.predict(X_train)\n",
    "    y_true = y_train\n",
    "    rmse_train_score.append(rmse(y_pred, y_true))\n",
    "\n",
    "    y_pred = sgd_regressor.predict(X_val)\n",
    "    y_true = y_val\n",
    "    rmse_val_score.append(rmse(y_pred, y_true))\n",
    "    model_list.append(sgd_regressor)\n",
    "\n",
    "    coef = sgd_regressor.coef_.copy()\n",
    "    intercept = sgd_regressor.intercept_.copy()\n",
    "\n",
    "    sgd_regressor = SGDRegressor(\n",
    "        eta0=eta0, max_iter=max_iter, warm_start=True, learning_rate=\"constant\")\n",
    "    \n",
    "    sgd_regressor.fit(X_train,y_train, coef_init=coef, intercept_init=intercept)\n"
   ]
  },
  {
   "cell_type": "code",
   "execution_count": 68,
   "metadata": {},
   "outputs": [
    {
     "data": {
      "image/png": "[encoded data removed]",
      "text/plain": [
       "<matplotlib.figure.Figure at 0x1a17170e80>"
      ]
     },
     "metadata": {},
     "output_type": "display_data"
    }
   ],
   "source": [
    "plt.plot(range(len(rmse_val_score)), rmse_val_score,  c=\"G\", label=\"VAL\")\n",
    "plt.plot(range(len(rmse_train_score)), rmse_train_score,  c=\"r\", label=\"TRAINING\")\n",
    "plt.scatter(99, rmse(y_test,sgd_regressor.predict(X_test)), s=1, label=\"TEST\")\n",
    "plt.legend()\n",
    "plt.show()"
   ]
  },
  {
   "cell_type": "markdown",
   "metadata": {},
   "source": [
    "sgd_regressor = SGDRegressor(\n",
    "    eta0=eta0, max_iter=max_iter, warm_start=True, learning_rate=\"constant\")\n",
    "\n",
    "warm_start 는 이전의 값을 사용해서 학습하는 것<br>\n",
    "-> ***만번 돌아갈때마다 데이터 저장해서 그 값을 사용해서 학습하는 것***<br><br>\n",
    "\n",
    "constant는? constant로 해놓으면, learning_rate가 **안 줄어들고** 그대로<br>\n",
    "여기서만 시작하는 eta0가 너무 작으니깐 그냥 constant해 놓은 거야. "
   ]
  },
  {
   "cell_type": "code",
   "execution_count": 69,
   "metadata": {},
   "outputs": [
    {
     "data": {
      "text/plain": [
       "array([ 81, 184, 298, 219, 291, 283,  23,  19, 114, 151, 269,  45,  92,\n",
       "       238, 264, 148,  44, 123, 220, 155,  59, 222,  85, 103,  39, 113,\n",
       "       205,  24, 263,  73,  78, 245, 111, 175, 215, 212, 268, 200,  94,\n",
       "       136,  33, 186, 211, 227, 189,  43, 210, 124, 230,  61,  46, 258,\n",
       "       160, 237,  93, 120,  47, 196, 287, 260, 126, 217,  63,  88, 235,\n",
       "        75, 297, 159, 293, 248, 182, 132, 129, 135,  32, 229, 140, 259,\n",
       "        51,  52, 125, 128, 288,  38, 171, 112, 144, 240, 115,  72, 276,\n",
       "        86, 206, 163, 108, 146,  53, 105, 193,  42,  17,  27, 271, 265,\n",
       "        57, 161, 177,  97, 286,  76,  91,  29,  48, 224, 197, 294, 209,\n",
       "        40, 156,  67, 166, 285, 261,  65, 164, 168, 214, 173, 167, 109,\n",
       "       292, 122, 117, 145,  56, 154,  25,  35, 284, 270, 274,  15, 107,\n",
       "       207, 249, 226, 179,  49, 254, 221,  36, 192,  58,  96, 181, 204,\n",
       "       202, 172,  95, 242,  13, 141, 228, 191, 250, 170,  82, 201, 195,\n",
       "        22, 178, 246, 138, 139, 208, 158, 257,  68, 183, 233, 190,  21,\n",
       "        70,  31, 147, 243,  62,  79,  80, 198, 225,  12, 272,   9, 203,\n",
       "       239,  74,  16, 256,  60, 121, 280, 143,  50, 130, 273, 281,  11,\n",
       "        28,  98, 232, 169, 252,  71,  99, 110, 101,  34,  30, 234, 289,\n",
       "        77, 223,  37, 162, 119, 253, 194, 174, 299, 152, 149, 241, 275,\n",
       "       199, 247,  90, 251,   8, 157, 262,  54, 116,   5,  66, 266, 176,\n",
       "       279, 185,  64, 278,  55, 102, 296, 104, 267, 255, 218, 295,  18,\n",
       "       180, 188, 236, 187,  69, 133, 244, 127,   4,   7, 282,  87, 277,\n",
       "       213, 100, 137, 118, 153, 165,  84,  26,  83,  20,   6,  10, 106,\n",
       "        14, 134,  41, 142, 131, 216, 150,  89, 290, 231,   3,   2,   1,\n",
       "         0])"
      ]
     },
     "execution_count": 69,
     "metadata": {},
     "output_type": "execute_result"
    }
   ],
   "source": [
    "np.argsort(rmse_val_score)\n",
    "#처음 나오는 숫자 번째 val_score가 제일 작나봐"
   ]
  },
  {
   "cell_type": "code",
   "execution_count": 70,
   "metadata": {},
   "outputs": [
    {
     "data": {
      "text/plain": [
       "array([-0.93728015,  0.78228836,  0.2653348 ,  0.70743188, -2.23384537,\n",
       "        3.4359609 , -0.08738885, -3.15028514,  1.88556313, -1.50556667,\n",
       "       -2.04338477,  1.17147704, -3.31017339])"
      ]
     },
     "execution_count": 70,
     "metadata": {},
     "output_type": "execute_result"
    }
   ],
   "source": [
    "model_list[81].coef_"
   ]
  },
  {
   "cell_type": "code",
   "execution_count": 71,
   "metadata": {},
   "outputs": [
    {
     "data": {
      "text/plain": [
       "5.009459357197992"
      ]
     },
     "execution_count": 71,
     "metadata": {},
     "output_type": "execute_result"
    }
   ],
   "source": [
    "rmse(y_test, sgd_regressor.predict(X_test))"
   ]
  },
  {
   "cell_type": "code",
   "execution_count": 72,
   "metadata": {},
   "outputs": [
    {
     "data": {
      "text/plain": [
       "5.008514898851588"
      ]
     },
     "execution_count": 72,
     "metadata": {},
     "output_type": "execute_result"
    }
   ],
   "source": [
    "rmse(y_test ,model_list[81].predict(X_test))"
   ]
  },
  {
   "cell_type": "markdown",
   "metadata": {},
   "source": [
    "## ETC"
   ]
  },
  {
   "cell_type": "markdown",
   "metadata": {},
   "source": [
    "RepeatedKFold - 중복이 포함된 K-Fold<br>\n",
    "**StratifiedFold - Y값 비율에 따라 뽑음**<br>\n",
    "ex) 98% 암이고 2% 암 이면 이 비율에 따라서 추출<br>\n",
    "GoupKFold - 그룹별로 데이터 Sampling "
   ]
  },
  {
   "cell_type": "code",
   "execution_count": null,
   "metadata": {
    "collapsed": true
   },
   "outputs": [],
   "source": []
  }
 ],
 "metadata": {
  "kernelspec": {
   "display_name": "Python 3",
   "language": "python",
   "name": "python3"
  },
  "language_info": {
   "codemirror_mode": {
    "name": "ipython",
    "version": 3
   },
   "file_extension": ".py",
   "mimetype": "text/x-python",
   "name": "python",
   "nbconvert_exporter": "python",
   "pygments_lexer": "ipython3",
   "version": "3.6.1"
  }
 },
 "nbformat": 4,
 "nbformat_minor": 2
}
